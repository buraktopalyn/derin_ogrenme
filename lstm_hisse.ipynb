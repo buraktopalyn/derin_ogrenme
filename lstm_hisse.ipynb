{
 "cells": [
  {
   "cell_type": "code",
   "execution_count": 30,
   "id": "5295422d-e827-4318-9bcc-d3db3c2dc850",
   "metadata": {},
   "outputs": [],
   "source": [
    "import numpy as np\n",
    "import pandas as pd\n",
    "import matplotlib.pyplot as plt\n",
    "import seaborn as sns\n",
    "import tensorflow as tf\n",
    "\n",
    "from sklearn.preprocessing import MinMaxScaler\n",
    "from sklearn.metrics import mean_squared_error\n",
    "\n",
    "from tensorflow.keras.models import Sequential\n",
    "from tensorflow.keras.layers import Dense, Dropout, LSTM\n",
    "from tensorflow.keras.callbacks import EarlyStopping, ModelCheckpoint\n",
    "\n",
    "import warnings\n",
    "warnings.filterwarnings(\"ignore\")\n",
    "\n",
    "# Tensorflow uyarılarını engelleme\n",
    "import os\n",
    "os.environ['TF_CPP_MIN_LOG_LEVEL'] = '3'\n",
    "tf.compat.v1.logging.set_verbosity(tf.compat.v1.logging.ERROR)"
   ]
  },
  {
   "cell_type": "markdown",
   "id": "13a6b816-e53f-4206-b19a-7b0269dea63a",
   "metadata": {},
   "source": [
    "## Veri Analizi"
   ]
  },
  {
   "cell_type": "code",
   "execution_count": 31,
   "id": "89571f8b-8de1-46cc-9768-907deab3c9db",
   "metadata": {},
   "outputs": [
    {
     "data": {
      "text/html": [
       "<div>\n",
       "<style scoped>\n",
       "    .dataframe tbody tr th:only-of-type {\n",
       "        vertical-align: middle;\n",
       "    }\n",
       "\n",
       "    .dataframe tbody tr th {\n",
       "        vertical-align: top;\n",
       "    }\n",
       "\n",
       "    .dataframe thead th {\n",
       "        text-align: right;\n",
       "    }\n",
       "</style>\n",
       "<table border=\"1\" class=\"dataframe\">\n",
       "  <thead>\n",
       "    <tr style=\"text-align: right;\">\n",
       "      <th></th>\n",
       "      <th>Date</th>\n",
       "      <th>Open</th>\n",
       "      <th>High</th>\n",
       "      <th>Low</th>\n",
       "      <th>Close</th>\n",
       "      <th>Adj Close</th>\n",
       "      <th>Volume</th>\n",
       "    </tr>\n",
       "  </thead>\n",
       "  <tbody>\n",
       "    <tr>\n",
       "      <th>0</th>\n",
       "      <td>2010-06-29</td>\n",
       "      <td>19.000000</td>\n",
       "      <td>25.00</td>\n",
       "      <td>17.540001</td>\n",
       "      <td>23.889999</td>\n",
       "      <td>23.889999</td>\n",
       "      <td>18766300</td>\n",
       "    </tr>\n",
       "    <tr>\n",
       "      <th>1</th>\n",
       "      <td>2010-06-30</td>\n",
       "      <td>25.790001</td>\n",
       "      <td>30.42</td>\n",
       "      <td>23.299999</td>\n",
       "      <td>23.830000</td>\n",
       "      <td>23.830000</td>\n",
       "      <td>17187100</td>\n",
       "    </tr>\n",
       "    <tr>\n",
       "      <th>2</th>\n",
       "      <td>2010-07-01</td>\n",
       "      <td>25.000000</td>\n",
       "      <td>25.92</td>\n",
       "      <td>20.270000</td>\n",
       "      <td>21.959999</td>\n",
       "      <td>21.959999</td>\n",
       "      <td>8218800</td>\n",
       "    </tr>\n",
       "    <tr>\n",
       "      <th>3</th>\n",
       "      <td>2010-07-02</td>\n",
       "      <td>23.000000</td>\n",
       "      <td>23.10</td>\n",
       "      <td>18.709999</td>\n",
       "      <td>19.200001</td>\n",
       "      <td>19.200001</td>\n",
       "      <td>5139800</td>\n",
       "    </tr>\n",
       "    <tr>\n",
       "      <th>4</th>\n",
       "      <td>2010-07-06</td>\n",
       "      <td>20.000000</td>\n",
       "      <td>20.00</td>\n",
       "      <td>15.830000</td>\n",
       "      <td>16.110001</td>\n",
       "      <td>16.110001</td>\n",
       "      <td>6866900</td>\n",
       "    </tr>\n",
       "  </tbody>\n",
       "</table>\n",
       "</div>"
      ],
      "text/plain": [
       "         Date       Open   High        Low      Close  Adj Close    Volume\n",
       "0  2010-06-29  19.000000  25.00  17.540001  23.889999  23.889999  18766300\n",
       "1  2010-06-30  25.790001  30.42  23.299999  23.830000  23.830000  17187100\n",
       "2  2010-07-01  25.000000  25.92  20.270000  21.959999  21.959999   8218800\n",
       "3  2010-07-02  23.000000  23.10  18.709999  19.200001  19.200001   5139800\n",
       "4  2010-07-06  20.000000  20.00  15.830000  16.110001  16.110001   6866900"
      ]
     },
     "execution_count": 31,
     "metadata": {},
     "output_type": "execute_result"
    }
   ],
   "source": [
    "df = pd.read_csv(\"TSLA.csv\")\n",
    "df.head()"
   ]
  },
  {
   "cell_type": "code",
   "execution_count": 32,
   "id": "a61d9007-3993-4011-8df1-777b7d4c9683",
   "metadata": {},
   "outputs": [
    {
     "name": "stdout",
     "output_type": "stream",
     "text": [
      "<class 'pandas.core.frame.DataFrame'>\n",
      "RangeIndex: 2416 entries, 0 to 2415\n",
      "Data columns (total 7 columns):\n",
      " #   Column     Non-Null Count  Dtype  \n",
      "---  ------     --------------  -----  \n",
      " 0   Date       2416 non-null   object \n",
      " 1   Open       2416 non-null   float64\n",
      " 2   High       2416 non-null   float64\n",
      " 3   Low        2416 non-null   float64\n",
      " 4   Close      2416 non-null   float64\n",
      " 5   Adj Close  2416 non-null   float64\n",
      " 6   Volume     2416 non-null   int64  \n",
      "dtypes: float64(5), int64(1), object(1)\n",
      "memory usage: 132.3+ KB\n"
     ]
    }
   ],
   "source": [
    "df.info()"
   ]
  },
  {
   "cell_type": "code",
   "execution_count": 33,
   "id": "0bebe757-01e3-40d8-853a-ff195c9d03f0",
   "metadata": {},
   "outputs": [],
   "source": [
    "df[\"Date\"] = pd.to_datetime(df[\"Date\"])"
   ]
  },
  {
   "cell_type": "code",
   "execution_count": 34,
   "id": "a6b8bb4d-c437-498a-bf44-c25d23555e05",
   "metadata": {},
   "outputs": [
    {
     "name": "stdout",
     "output_type": "stream",
     "text": [
      "<class 'pandas.core.frame.DataFrame'>\n",
      "RangeIndex: 2416 entries, 0 to 2415\n",
      "Data columns (total 7 columns):\n",
      " #   Column     Non-Null Count  Dtype         \n",
      "---  ------     --------------  -----         \n",
      " 0   Date       2416 non-null   datetime64[ns]\n",
      " 1   Open       2416 non-null   float64       \n",
      " 2   High       2416 non-null   float64       \n",
      " 3   Low        2416 non-null   float64       \n",
      " 4   Close      2416 non-null   float64       \n",
      " 5   Adj Close  2416 non-null   float64       \n",
      " 6   Volume     2416 non-null   int64         \n",
      "dtypes: datetime64[ns](1), float64(5), int64(1)\n",
      "memory usage: 132.3 KB\n"
     ]
    }
   ],
   "source": [
    "df.info()"
   ]
  },
  {
   "cell_type": "code",
   "execution_count": 35,
   "id": "eb19cec9-5c0c-40b8-8c49-3f2bfeecdeb8",
   "metadata": {},
   "outputs": [],
   "source": [
    "tesla_df = df[[\"Date\",\"Close\"]]"
   ]
  },
  {
   "cell_type": "code",
   "execution_count": 36,
   "id": "58706054-cfdf-4190-97a0-8e32933a3e15",
   "metadata": {},
   "outputs": [],
   "source": [
    "tesla_df.index = tesla_df[\"Date\"]"
   ]
  },
  {
   "cell_type": "code",
   "execution_count": 37,
   "id": "13327729-4e3d-4aa0-be2d-8b644d484616",
   "metadata": {},
   "outputs": [],
   "source": [
    "tesla_df.drop(\"Date\", axis=1, inplace=True)"
   ]
  },
  {
   "cell_type": "code",
   "execution_count": 38,
   "id": "1e98d6fc-f640-4313-b0dd-5de8f55caa99",
   "metadata": {},
   "outputs": [
    {
     "data": {
      "text/html": [
       "<div>\n",
       "<style scoped>\n",
       "    .dataframe tbody tr th:only-of-type {\n",
       "        vertical-align: middle;\n",
       "    }\n",
       "\n",
       "    .dataframe tbody tr th {\n",
       "        vertical-align: top;\n",
       "    }\n",
       "\n",
       "    .dataframe thead th {\n",
       "        text-align: right;\n",
       "    }\n",
       "</style>\n",
       "<table border=\"1\" class=\"dataframe\">\n",
       "  <thead>\n",
       "    <tr style=\"text-align: right;\">\n",
       "      <th></th>\n",
       "      <th>Close</th>\n",
       "    </tr>\n",
       "    <tr>\n",
       "      <th>Date</th>\n",
       "      <th></th>\n",
       "    </tr>\n",
       "  </thead>\n",
       "  <tbody>\n",
       "    <tr>\n",
       "      <th>2010-06-29</th>\n",
       "      <td>23.889999</td>\n",
       "    </tr>\n",
       "    <tr>\n",
       "      <th>2010-06-30</th>\n",
       "      <td>23.830000</td>\n",
       "    </tr>\n",
       "    <tr>\n",
       "      <th>2010-07-01</th>\n",
       "      <td>21.959999</td>\n",
       "    </tr>\n",
       "    <tr>\n",
       "      <th>2010-07-02</th>\n",
       "      <td>19.200001</td>\n",
       "    </tr>\n",
       "    <tr>\n",
       "      <th>2010-07-06</th>\n",
       "      <td>16.110001</td>\n",
       "    </tr>\n",
       "  </tbody>\n",
       "</table>\n",
       "</div>"
      ],
      "text/plain": [
       "                Close\n",
       "Date                 \n",
       "2010-06-29  23.889999\n",
       "2010-06-30  23.830000\n",
       "2010-07-01  21.959999\n",
       "2010-07-02  19.200001\n",
       "2010-07-06  16.110001"
      ]
     },
     "execution_count": 38,
     "metadata": {},
     "output_type": "execute_result"
    }
   ],
   "source": [
    "tesla_df.head()"
   ]
  },
  {
   "cell_type": "code",
   "execution_count": 39,
   "id": "37dec628-6af1-4f9f-a947-b93c251150ec",
   "metadata": {},
   "outputs": [],
   "source": [
    "tesla_copy = tesla_df.copy()"
   ]
  },
  {
   "cell_type": "code",
   "execution_count": 49,
   "id": "5b9fe37f-1bd2-4894-b451-437efa936564",
   "metadata": {},
   "outputs": [
    {
     "data": {
      "image/png": "[encoded data removed]",
      "text/plain": [
       "<Figure size 1800x400 with 1 Axes>"
      ]
     },
     "metadata": {},
     "output_type": "display_data"
    }
   ],
   "source": [
    "plt.figure(figsize=(18, 4))\n",
    "sns.lineplot(tesla_df);"
   ]
  },
  {
   "cell_type": "markdown",
   "id": "14e261c4-2e90-4cfe-a375-ec8435872549",
   "metadata": {},
   "source": [
    "## Verinin Hazırlanması"
   ]
  },
  {
   "cell_type": "code",
   "execution_count": 104,
   "id": "ae50d5d4-958b-45b7-b5ea-e2839492f4d3",
   "metadata": {},
   "outputs": [],
   "source": [
    "data = tesla_df.values"
   ]
  },
  {
   "cell_type": "code",
   "execution_count": 105,
   "id": "28101fb6-a67e-4f74-bb2f-39d34eb73f84",
   "metadata": {},
   "outputs": [],
   "source": [
    "data = data.astype(\"float32\")"
   ]
  },
  {
   "cell_type": "code",
   "execution_count": 106,
   "id": "bd6d2cb9-9494-47dd-ae5b-545efeef262d",
   "metadata": {},
   "outputs": [
    {
     "data": {
      "text/plain": [
       "array([[23.89],\n",
       "       [23.83],\n",
       "       [21.96],\n",
       "       [19.2 ],\n",
       "       [16.11]], dtype=float32)"
      ]
     },
     "execution_count": 106,
     "metadata": {},
     "output_type": "execute_result"
    }
   ],
   "source": [
    "data[:5]"
   ]
  },
  {
   "cell_type": "code",
   "execution_count": 107,
   "id": "2e44bdf9-5a40-43c4-b28c-e15f914828e1",
   "metadata": {},
   "outputs": [
    {
     "data": {
      "text/plain": [
       "(2416, 1)"
      ]
     },
     "execution_count": 107,
     "metadata": {},
     "output_type": "execute_result"
    }
   ],
   "source": [
    "data = data.reshape(-1, 1)\n",
    "data.shape"
   ]
  },
  {
   "cell_type": "code",
   "execution_count": 141,
   "id": "fa464ca9-5190-4de0-bf2a-c81dfb8f35d0",
   "metadata": {},
   "outputs": [],
   "source": [
    "# eğitim ve test verilerini bölme\n",
    "split = round(df.count().values[0] * 0.8)\n",
    "train = data[:split]\n",
    "test = data[split:]"
   ]
  },
  {
   "cell_type": "code",
   "execution_count": 142,
   "id": "d3c52b32-ee5f-4995-b7c2-d731a78bc6e8",
   "metadata": {},
   "outputs": [
    {
     "data": {
      "text/plain": [
       "((1933, 1), (483, 1))"
      ]
     },
     "execution_count": 142,
     "metadata": {},
     "output_type": "execute_result"
    }
   ],
   "source": [
    "train.shape, test.shape"
   ]
  },
  {
   "cell_type": "code",
   "execution_count": 143,
   "id": "e365aeb8-eb67-4685-b36e-21aa1515bb89",
   "metadata": {},
   "outputs": [],
   "source": [
    "# Verileri modelin daha iyi performans göstermesi için dönüştürme\n",
    "scaler_train = MinMaxScaler(feature_range=(0, 1))\n",
    "scaler_test = MinMaxScaler(feature_range=(0, 1))\n",
    "train = scaler_train.fit_transform(train)\n",
    "test = scaler_test.fit_transform(test)"
   ]
  },
  {
   "cell_type": "code",
   "execution_count": 151,
   "id": "bfde5ed5-1094-4663-be48-8fdcf41a716c",
   "metadata": {},
   "outputs": [],
   "source": [
    "# Verisetlerinin Hazırlanması\n",
    "X_train = train.ravel()\n",
    "y_train = train.ravel()[20:]\n",
    "\n",
    "X_test = test.ravel()\n",
    "y_test = test.ravel()[20:]"
   ]
  },
  {
   "cell_type": "code",
   "execution_count": 152,
   "id": "4d4936d1-dc02-45df-8d5d-1ca010d33729",
   "metadata": {},
   "outputs": [
    {
     "data": {
      "text/plain": [
       "((1933,), (1913,), (483,), (463,))"
      ]
     },
     "execution_count": 152,
     "metadata": {},
     "output_type": "execute_result"
    }
   ],
   "source": [
    "X_train.shape, y_train.shape, X_test.shape, y_test.shape"
   ]
  },
  {
   "cell_type": "code",
   "execution_count": 153,
   "id": "e35e1996-950a-4097-9033-4139124428d9",
   "metadata": {},
   "outputs": [],
   "source": [
    "def create_data(data, lookback):\n",
    "    X = []\n",
    "    for i in range(len(data)-lookback):\n",
    "        X.append(data[i:i+lookback])\n",
    "\n",
    "    return np.array(X)"
   ]
  },
  {
   "cell_type": "code",
   "execution_count": 154,
   "id": "5570d5c9-bf7c-45cf-bf13-b19859881471",
   "metadata": {},
   "outputs": [],
   "source": [
    "lookback = 20\n",
    "X_train = create_data(X_train, lookback)\n",
    "X_test = create_data(X_test, lookback)"
   ]
  },
  {
   "cell_type": "code",
   "execution_count": 155,
   "id": "90264073-408f-4697-b6c9-2026378f8a9a",
   "metadata": {},
   "outputs": [
    {
     "data": {
      "text/plain": [
       "((1913, 20), (1913,), (463, 20), (463,))"
      ]
     },
     "execution_count": 155,
     "metadata": {},
     "output_type": "execute_result"
    }
   ],
   "source": [
    "X_train.shape, y_train.shape, X_test.shape, y_test.shape"
   ]
  },
  {
   "cell_type": "code",
   "execution_count": 156,
   "id": "5464be75-a429-4efc-a1c5-368f988eefad",
   "metadata": {},
   "outputs": [],
   "source": [
    "X_train = X_train.reshape(X_train.shape[0], 1, X_train.shape[1])\n",
    "X_test = X_test.reshape(X_test.shape[0], 1, X_test.shape[1])\n",
    "\n",
    "y_train = y_train.reshape(-1, 1)\n",
    "y_test = y_test.reshape(-1, 1)"
   ]
  },
  {
   "cell_type": "code",
   "execution_count": 157,
   "id": "66f282f6-5219-40b3-939e-6613d5a99f96",
   "metadata": {},
   "outputs": [
    {
     "data": {
      "text/plain": [
       "((1913, 1, 20), (1913, 1), (463, 1, 20), (463, 1))"
      ]
     },
     "execution_count": 157,
     "metadata": {},
     "output_type": "execute_result"
    }
   ],
   "source": [
    "X_train.shape, y_train.shape, X_test.shape, y_test.shape"
   ]
  },
  {
   "cell_type": "markdown",
   "id": "0fb16e71-041d-4451-8f6a-5de75a24a72e",
   "metadata": {},
   "source": [
    "## LSTM Modelleme"
   ]
  },
  {
   "cell_type": "code",
   "execution_count": 212,
   "id": "1b4f64cf-6d68-4ab6-8301-515cce327076",
   "metadata": {},
   "outputs": [],
   "source": [
    "model = Sequential()\n",
    "model.add(LSTM(units=50, return_sequences=True, input_shape=(X_train.shape[1], lookback)))\n",
    "model.add(Dropout(.2))\n",
    "model.add(Dense(1))"
   ]
  },
  {
   "cell_type": "code",
   "execution_count": 213,
   "id": "e97b06b6-74d1-4153-95d4-2e2baf1bd9eb",
   "metadata": {},
   "outputs": [
    {
     "name": "stdout",
     "output_type": "stream",
     "text": [
      "Model: \"sequential_9\"\n",
      "_________________________________________________________________\n",
      " Layer (type)                Output Shape              Param #   \n",
      "=================================================================\n",
      " lstm_9 (LSTM)               (None, 1, 50)             14200     \n",
      "                                                                 \n",
      " dropout_9 (Dropout)         (None, 1, 50)             0         \n",
      "                                                                 \n",
      " dense_9 (Dense)             (None, 1, 1)              51        \n",
      "                                                                 \n",
      "=================================================================\n",
      "Total params: 14251 (55.67 KB)\n",
      "Trainable params: 14251 (55.67 KB)\n",
      "Non-trainable params: 0 (0.00 Byte)\n",
      "_________________________________________________________________\n"
     ]
    }
   ],
   "source": [
    "model.summary()"
   ]
  },
  {
   "cell_type": "code",
   "execution_count": 214,
   "id": "b544ff29-4f75-4010-b93c-d49d9e89bd71",
   "metadata": {},
   "outputs": [],
   "source": [
    "# Optimizasyon ve Değerlendirme Metriklerini Ayarlama\n",
    "model.compile(loss=\"mean_squared_error\", optimizer=\"adam\")"
   ]
  },
  {
   "cell_type": "code",
   "execution_count": 215,
   "id": "96e6990b-a71c-4f2f-a031-9c71047ad0cc",
   "metadata": {},
   "outputs": [],
   "source": [
    "callbacks = [EarlyStopping(monitor=\"val_loss\", patience=3, mode=\"min\", verbose=1),\n",
    "            ModelCheckpoint(filepath=\"TSLA.h5\", monitor=\"val_accuracy\", mode=\"max\", \n",
    "                            verbose=1, save_best_only=True, save_weights_only=False)]"
   ]
  },
  {
   "cell_type": "code",
   "execution_count": 216,
   "id": "0d40c2be-1dd7-47ff-b6b8-e4a91fc76ac2",
   "metadata": {},
   "outputs": [
    {
     "name": "stdout",
     "output_type": "stream",
     "text": [
      "Epoch 1/100\n",
      "96/96 [==============================] - 2s 5ms/step - loss: 0.0035 - val_loss: 0.0045\n",
      "Epoch 2/100\n",
      "96/96 [==============================] - 0s 2ms/step - loss: 0.0034 - val_loss: 0.0020\n",
      "Epoch 3/100\n",
      "96/96 [==============================] - 0s 2ms/step - loss: 0.0025 - val_loss: 0.0018\n",
      "Epoch 4/100\n",
      "96/96 [==============================] - 0s 2ms/step - loss: 0.0026 - val_loss: 0.0017\n",
      "Epoch 5/100\n",
      "96/96 [==============================] - 0s 2ms/step - loss: 0.0026 - val_loss: 0.0017\n",
      "Epoch 6/100\n",
      "96/96 [==============================] - 0s 2ms/step - loss: 0.0027 - val_loss: 0.0025\n",
      "Epoch 7/100\n",
      "96/96 [==============================] - 0s 2ms/step - loss: 0.0023 - val_loss: 0.0015\n",
      "Epoch 8/100\n",
      "96/96 [==============================] - 0s 2ms/step - loss: 0.0018 - val_loss: 0.0013\n",
      "Epoch 9/100\n",
      "96/96 [==============================] - 0s 2ms/step - loss: 0.0019 - val_loss: 0.0015\n",
      "Epoch 10/100\n",
      "96/96 [==============================] - 0s 2ms/step - loss: 0.0018 - val_loss: 0.0014\n",
      "Epoch 11/100\n",
      "96/96 [==============================] - 0s 2ms/step - loss: 0.0017 - val_loss: 0.0011\n",
      "Epoch 12/100\n",
      "96/96 [==============================] - 0s 2ms/step - loss: 0.0016 - val_loss: 0.0011\n",
      "Epoch 13/100\n",
      "96/96 [==============================] - 0s 2ms/step - loss: 0.0020 - val_loss: 0.0015\n",
      "Epoch 14/100\n",
      "96/96 [==============================] - 0s 2ms/step - loss: 0.0016 - val_loss: 0.0013\n",
      "Epoch 15/100\n",
      "96/96 [==============================] - 0s 2ms/step - loss: 0.0016 - val_loss: 9.9313e-04\n",
      "Epoch 16/100\n",
      "96/96 [==============================] - 0s 2ms/step - loss: 0.0015 - val_loss: 9.5880e-04\n",
      "Epoch 17/100\n",
      "96/96 [==============================] - 0s 2ms/step - loss: 0.0017 - val_loss: 0.0015\n",
      "Epoch 18/100\n",
      "96/96 [==============================] - 0s 2ms/step - loss: 0.0014 - val_loss: 0.0011\n",
      "Epoch 19/100\n",
      "96/96 [==============================] - 0s 2ms/step - loss: 0.0015 - val_loss: 9.5739e-04\n",
      "Epoch 20/100\n",
      "96/96 [==============================] - 0s 2ms/step - loss: 0.0014 - val_loss: 9.8850e-04\n",
      "Epoch 21/100\n",
      "96/96 [==============================] - 0s 2ms/step - loss: 0.0015 - val_loss: 9.6752e-04\n",
      "Epoch 22/100\n",
      "96/96 [==============================] - 0s 2ms/step - loss: 0.0016 - val_loss: 9.5806e-04\n",
      "Epoch 22: early stopping\n"
     ]
    }
   ],
   "source": [
    "history = model.fit(\n",
    "    x = X_train,\n",
    "    y = y_train,\n",
    "    batch_size = 20,\n",
    "    epochs = 100,\n",
    "    callbacks = callbacks,\n",
    "    validation_data=(X_test, y_test),\n",
    "    shuffle = False,\n",
    "    verbose = 1\n",
    ")"
   ]
  },
  {
   "cell_type": "code",
   "execution_count": 217,
   "id": "c3677252-2cf7-42a9-9fa2-14490a8b78de",
   "metadata": {},
   "outputs": [
    {
     "data": {
      "image/png": "[encoded data removed]",
      "text/plain": [
       "<Figure size 640x480 with 1 Axes>"
      ]
     },
     "metadata": {},
     "output_type": "display_data"
    }
   ],
   "source": [
    "# Kayıp (maliyet) grafiği\n",
    "loss = pd.DataFrame(history.history)\n",
    "loss.plot();"
   ]
  },
  {
   "cell_type": "code",
   "execution_count": 218,
   "id": "e6a160b6-614e-4f2f-81fb-9a40524955fe",
   "metadata": {},
   "outputs": [
    {
     "name": "stdout",
     "output_type": "stream",
     "text": [
      "24/24 [==============================] - 0s 957us/step - loss: 9.5806e-04\n",
      "Hata: %0.10\n"
     ]
    }
   ],
   "source": [
    "pred = model.evaluate(X_test, y_test, batch_size=20)\n",
    "print(f\"Hata: %{pred*100:.2f}\")"
   ]
  },
  {
   "cell_type": "code",
   "execution_count": 222,
   "id": "9237ad3c-d703-4b5b-b660-0195ebb82ebd",
   "metadata": {},
   "outputs": [
    {
     "name": "stdout",
     "output_type": "stream",
     "text": [
      "60/60 [==============================] - 0s 1ms/step\n",
      "15/15 [==============================] - 0s 1ms/step\n"
     ]
    }
   ],
   "source": [
    "train_pred = model.predict(X_train)\n",
    "test_pred = model.predict(X_test)"
   ]
  },
  {
   "cell_type": "code",
   "execution_count": 223,
   "id": "8daa6d13-babb-4fb0-833d-8152ce05c34c",
   "metadata": {},
   "outputs": [],
   "source": [
    "train_pred = train_pred.reshape(train_pred.shape[0], 1)\n",
    "test_pred = test_pred.reshape(test_pred.shape[0], 1)"
   ]
  },
  {
   "cell_type": "code",
   "execution_count": 224,
   "id": "5dbb21c1-162e-4abc-a40e-d21255598549",
   "metadata": {},
   "outputs": [],
   "source": [
    "# Dönüştürülen verileri eski hallerine getirme\n",
    "train_pred = scaler_train.inverse_transform(train_pred)\n",
    "test_pred = scaler_test.inverse_transform(test_pred)"
   ]
  },
  {
   "cell_type": "code",
   "execution_count": 225,
   "id": "2e9a31c9-5916-4c02-88c7-e9de7a387460",
   "metadata": {},
   "outputs": [],
   "source": [
    "# Dönüştürülen verileri eski hallerine getirme\n",
    "y_train = scaler_train.inverse_transform(y_train)\n",
    "y_test = scaler_test.inverse_transform(y_test)"
   ]
  },
  {
   "cell_type": "code",
   "execution_count": 227,
   "id": "38d5fd3d-c65f-4b24-88c8-4cf70d2ce52e",
   "metadata": {},
   "outputs": [
    {
     "name": "stdout",
     "output_type": "stream",
     "text": [
      "Eğitim Hatası: 9.48\n",
      "Test Hatası: 18.60\n"
     ]
    }
   ],
   "source": [
    "# Hataların hesaplanması\n",
    "train_rmse = np.sqrt(mean_squared_error(y_train, train_pred))\n",
    "test_rmse = np.sqrt(mean_squared_error(y_test, test_pred))\n",
    "print(f\"Eğitim Hatası: {train_rmse:.2f}\")\n",
    "print(f\"Test Hatası: {test_rmse:.2f}\")"
   ]
  },
  {
   "cell_type": "code",
   "execution_count": 228,
   "id": "d8edb662-e12b-4f4f-aba3-63ddcf387175",
   "metadata": {},
   "outputs": [
    {
     "data": {
      "text/html": [
       "<div>\n",
       "<style scoped>\n",
       "    .dataframe tbody tr th:only-of-type {\n",
       "        vertical-align: middle;\n",
       "    }\n",
       "\n",
       "    .dataframe tbody tr th {\n",
       "        vertical-align: top;\n",
       "    }\n",
       "\n",
       "    .dataframe thead th {\n",
       "        text-align: right;\n",
       "    }\n",
       "</style>\n",
       "<table border=\"1\" class=\"dataframe\">\n",
       "  <thead>\n",
       "    <tr style=\"text-align: right;\">\n",
       "      <th></th>\n",
       "      <th>Close</th>\n",
       "      <th>Predicted</th>\n",
       "    </tr>\n",
       "    <tr>\n",
       "      <th>Date</th>\n",
       "      <th></th>\n",
       "      <th></th>\n",
       "    </tr>\n",
       "  </thead>\n",
       "  <tbody>\n",
       "    <tr>\n",
       "      <th>2010-07-28</th>\n",
       "      <td>20.719999</td>\n",
       "      <td>15.020873</td>\n",
       "    </tr>\n",
       "    <tr>\n",
       "      <th>2010-07-29</th>\n",
       "      <td>20.350000</td>\n",
       "      <td>14.845696</td>\n",
       "    </tr>\n",
       "    <tr>\n",
       "      <th>2010-07-30</th>\n",
       "      <td>19.940001</td>\n",
       "      <td>14.780396</td>\n",
       "    </tr>\n",
       "    <tr>\n",
       "      <th>2010-08-02</th>\n",
       "      <td>20.920000</td>\n",
       "      <td>14.737155</td>\n",
       "    </tr>\n",
       "    <tr>\n",
       "      <th>2010-08-03</th>\n",
       "      <td>21.950001</td>\n",
       "      <td>15.026099</td>\n",
       "    </tr>\n",
       "  </tbody>\n",
       "</table>\n",
       "</div>"
      ],
      "text/plain": [
       "                Close  Predicted\n",
       "Date                            \n",
       "2010-07-28  20.719999  15.020873\n",
       "2010-07-29  20.350000  14.845696\n",
       "2010-07-30  19.940001  14.780396\n",
       "2010-08-02  20.920000  14.737155\n",
       "2010-08-03  21.950001  15.026099"
      ]
     },
     "execution_count": 228,
     "metadata": {},
     "output_type": "execute_result"
    }
   ],
   "source": [
    "# Eğitim ve Test tahminlerinin gerçek veri ile karşılaştırılması\n",
    "train_pred_df = tesla_copy[lookback:split]\n",
    "train_pred_df[\"Predicted\"] = train_pred\n",
    "train_pred_df.head()"
   ]
  },
  {
   "cell_type": "code",
   "execution_count": 229,
   "id": "985dc9a9-658b-4586-9cee-8a107c9eefa5",
   "metadata": {},
   "outputs": [
    {
     "data": {
      "text/html": [
       "<div>\n",
       "<style scoped>\n",
       "    .dataframe tbody tr th:only-of-type {\n",
       "        vertical-align: middle;\n",
       "    }\n",
       "\n",
       "    .dataframe tbody tr th {\n",
       "        vertical-align: top;\n",
       "    }\n",
       "\n",
       "    .dataframe thead th {\n",
       "        text-align: right;\n",
       "    }\n",
       "</style>\n",
       "<table border=\"1\" class=\"dataframe\">\n",
       "  <thead>\n",
       "    <tr style=\"text-align: right;\">\n",
       "      <th></th>\n",
       "      <th>Close</th>\n",
       "      <th>Predicted</th>\n",
       "    </tr>\n",
       "    <tr>\n",
       "      <th>Date</th>\n",
       "      <th></th>\n",
       "      <th></th>\n",
       "    </tr>\n",
       "  </thead>\n",
       "  <tbody>\n",
       "    <tr>\n",
       "      <th>2018-04-03</th>\n",
       "      <td>267.529999</td>\n",
       "      <td>276.139069</td>\n",
       "    </tr>\n",
       "    <tr>\n",
       "      <th>2018-04-04</th>\n",
       "      <td>286.940002</td>\n",
       "      <td>271.892212</td>\n",
       "    </tr>\n",
       "    <tr>\n",
       "      <th>2018-04-05</th>\n",
       "      <td>305.720001</td>\n",
       "      <td>274.895416</td>\n",
       "    </tr>\n",
       "    <tr>\n",
       "      <th>2018-04-06</th>\n",
       "      <td>299.299988</td>\n",
       "      <td>280.114532</td>\n",
       "    </tr>\n",
       "    <tr>\n",
       "      <th>2018-04-09</th>\n",
       "      <td>289.660004</td>\n",
       "      <td>283.579041</td>\n",
       "    </tr>\n",
       "  </tbody>\n",
       "</table>\n",
       "</div>"
      ],
      "text/plain": [
       "                 Close   Predicted\n",
       "Date                              \n",
       "2018-04-03  267.529999  276.139069\n",
       "2018-04-04  286.940002  271.892212\n",
       "2018-04-05  305.720001  274.895416\n",
       "2018-04-06  299.299988  280.114532\n",
       "2018-04-09  289.660004  283.579041"
      ]
     },
     "execution_count": 229,
     "metadata": {},
     "output_type": "execute_result"
    }
   ],
   "source": [
    "test_pred_df = tesla_copy[lookback+split:]\n",
    "test_pred_df[\"Predicted\"] = test_pred\n",
    "test_pred_df.head()"
   ]
  },
  {
   "cell_type": "code",
   "execution_count": 236,
   "id": "4b8dbae2-878e-46bc-92df-4de556b6483d",
   "metadata": {},
   "outputs": [
    {
     "data": {
      "image/png": "[encoded data removed]",
      "text/plain": [
       "<Figure size 1600x400 with 1 Axes>"
      ]
     },
     "metadata": {},
     "output_type": "display_data"
    }
   ],
   "source": [
    "plt.figure(figsize=(16, 4))\n",
    "sns.lineplot(tesla_copy, label=\"Gerçek Veri\", legend=None)\n",
    "sns.lineplot(train_pred_df[\"Predicted\"], label=\"Eğitim Tahmini\")\n",
    "sns.lineplot(test_pred_df[\"Predicted\"], label=\"Test Tahmini\", color=\"red\");"
   ]
  },
  {
   "cell_type": "code",
   "execution_count": 237,
   "id": "a213c820-c408-401d-b299-463019ccbc5e",
   "metadata": {},
   "outputs": [],
   "source": [
    "model.save(\"TSLA.h5\")"
   ]
  },
  {
   "cell_type": "code",
   "execution_count": null,
   "id": "18b536c8-9606-4185-abbc-3d4a03d2b2ea",
   "metadata": {},
   "outputs": [],
   "source": []
  }
 ],
 "metadata": {
  "kernelspec": {
   "display_name": "Python 3 (ipykernel)",
   "language": "python",
   "name": "python3"
  },
  "language_info": {
   "codemirror_mode": {
    "name": "ipython",
    "version": 3
   },
   "file_extension": ".py",
   "mimetype": "text/x-python",
   "name": "python",
   "nbconvert_exporter": "python",
   "pygments_lexer": "ipython3",
   "version": "3.11.6"
  }
 },
 "nbformat": 4,
 "nbformat_minor": 5
}
