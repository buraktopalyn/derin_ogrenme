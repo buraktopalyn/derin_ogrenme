{
 "cells": [
  {
   "cell_type": "code",
   "execution_count": 96,
   "id": "8f7bb13f-da76-428b-bb64-2bccc27544e1",
   "metadata": {},
   "outputs": [],
   "source": [
    "import numpy as np\n",
    "import pandas as pd\n",
    "import matplotlib.pyplot as plt\n",
    "import seaborn as sns\n",
    "from sklearn.model_selection import train_test_split\n",
    "from sklearn.preprocessing import MinMaxScaler\n",
    "from sklearn.metrics import accuracy_score, classification_report, confusion_matrix\n",
    "from tensorflow.keras.models import Sequential\n",
    "from tensorflow.keras.layers import Dense, Activation, Dropout\n",
    "from tensorflow.keras.callbacks import EarlyStopping\n",
    "import tensorflow as tf\n",
    "\n",
    "import warnings\n",
    "warnings.filterwarnings(\"ignore\")"
   ]
  },
  {
   "cell_type": "code",
   "execution_count": 5,
   "id": "715d2e83-b5da-4093-83b9-6027b2130c62",
   "metadata": {},
   "outputs": [],
   "source": [
    "malicious = pd.read_excel(\"maliciousornot.xlsx\")\n",
    "data = malicious.copy()"
   ]
  },
  {
   "cell_type": "code",
   "execution_count": 6,
   "id": "84876494-bea3-44ac-9381-e50efac08c37",
   "metadata": {},
   "outputs": [
    {
     "data": {
      "text/html": [
       "<div>\n",
       "<style scoped>\n",
       "    .dataframe tbody tr th:only-of-type {\n",
       "        vertical-align: middle;\n",
       "    }\n",
       "\n",
       "    .dataframe tbody tr th {\n",
       "        vertical-align: top;\n",
       "    }\n",
       "\n",
       "    .dataframe thead th {\n",
       "        text-align: right;\n",
       "    }\n",
       "</style>\n",
       "<table border=\"1\" class=\"dataframe\">\n",
       "  <thead>\n",
       "    <tr style=\"text-align: right;\">\n",
       "      <th></th>\n",
       "      <th>Type</th>\n",
       "      <th>URL_LENGTH</th>\n",
       "      <th>NUMBER_SPECIAL_CHARACTERS</th>\n",
       "      <th>TCP_CONVERSATION_EXCHANGE</th>\n",
       "      <th>DIST_REMOTE_TCP_PORT</th>\n",
       "      <th>REMOTE_IPS</th>\n",
       "      <th>APP_BYTES</th>\n",
       "      <th>SOURCE_APP_PACKETS</th>\n",
       "      <th>REMOTE_APP_PACKETS</th>\n",
       "      <th>SOURCE_APP_BYTES</th>\n",
       "      <th>...</th>\n",
       "      <th>SOURCE_I</th>\n",
       "      <th>SOURCE_J</th>\n",
       "      <th>SOURCE_K</th>\n",
       "      <th>SOURCE_M</th>\n",
       "      <th>SOURCE_L</th>\n",
       "      <th>SOURCE_N</th>\n",
       "      <th>SOURCE_O</th>\n",
       "      <th>SOURCE_P</th>\n",
       "      <th>SOURCE_R</th>\n",
       "      <th>SOURCE_S</th>\n",
       "    </tr>\n",
       "  </thead>\n",
       "  <tbody>\n",
       "    <tr>\n",
       "      <th>0</th>\n",
       "      <td>1</td>\n",
       "      <td>23.303047</td>\n",
       "      <td>13.445560</td>\n",
       "      <td>159.066933</td>\n",
       "      <td>1296.628667</td>\n",
       "      <td>0.153367</td>\n",
       "      <td>0.359585</td>\n",
       "      <td>0.388730</td>\n",
       "      <td>0.190544</td>\n",
       "      <td>0.313341</td>\n",
       "      <td>...</td>\n",
       "      <td>32.875560</td>\n",
       "      <td>22.448127</td>\n",
       "      <td>239.118533</td>\n",
       "      <td>2615.278000</td>\n",
       "      <td>0.210103</td>\n",
       "      <td>0.862174</td>\n",
       "      <td>0.922148</td>\n",
       "      <td>0.343781</td>\n",
       "      <td>0.595983</td>\n",
       "      <td>0.154015</td>\n",
       "    </tr>\n",
       "    <tr>\n",
       "      <th>1</th>\n",
       "      <td>1</td>\n",
       "      <td>26.645007</td>\n",
       "      <td>23.018073</td>\n",
       "      <td>172.149800</td>\n",
       "      <td>1717.612000</td>\n",
       "      <td>0.109767</td>\n",
       "      <td>0.101865</td>\n",
       "      <td>0.112564</td>\n",
       "      <td>0.090894</td>\n",
       "      <td>0.234714</td>\n",
       "      <td>...</td>\n",
       "      <td>32.370380</td>\n",
       "      <td>30.323753</td>\n",
       "      <td>205.698933</td>\n",
       "      <td>2533.672000</td>\n",
       "      <td>0.160362</td>\n",
       "      <td>0.241709</td>\n",
       "      <td>0.312953</td>\n",
       "      <td>240.932000</td>\n",
       "      <td>356.216667</td>\n",
       "      <td>0.115311</td>\n",
       "    </tr>\n",
       "    <tr>\n",
       "      <th>2</th>\n",
       "      <td>1</td>\n",
       "      <td>25.505113</td>\n",
       "      <td>27.525833</td>\n",
       "      <td>168.393333</td>\n",
       "      <td>1558.286000</td>\n",
       "      <td>0.141969</td>\n",
       "      <td>0.207124</td>\n",
       "      <td>0.255699</td>\n",
       "      <td>0.165673</td>\n",
       "      <td>0.268004</td>\n",
       "      <td>...</td>\n",
       "      <td>30.531007</td>\n",
       "      <td>33.069860</td>\n",
       "      <td>197.538333</td>\n",
       "      <td>2213.724667</td>\n",
       "      <td>0.187046</td>\n",
       "      <td>0.549869</td>\n",
       "      <td>0.583418</td>\n",
       "      <td>314.766000</td>\n",
       "      <td>0.468004</td>\n",
       "      <td>0.113445</td>\n",
       "    </tr>\n",
       "    <tr>\n",
       "      <th>3</th>\n",
       "      <td>1</td>\n",
       "      <td>14.792707</td>\n",
       "      <td>26.398893</td>\n",
       "      <td>100.491960</td>\n",
       "      <td>500.128200</td>\n",
       "      <td>0.184585</td>\n",
       "      <td>0.367745</td>\n",
       "      <td>0.312693</td>\n",
       "      <td>0.136269</td>\n",
       "      <td>0.336398</td>\n",
       "      <td>...</td>\n",
       "      <td>19.313420</td>\n",
       "      <td>34.326333</td>\n",
       "      <td>128.069607</td>\n",
       "      <td>735.360733</td>\n",
       "      <td>0.271761</td>\n",
       "      <td>1.122147</td>\n",
       "      <td>0.889764</td>\n",
       "      <td>0.333548</td>\n",
       "      <td>0.859842</td>\n",
       "      <td>224.092667</td>\n",
       "    </tr>\n",
       "    <tr>\n",
       "      <th>4</th>\n",
       "      <td>1</td>\n",
       "      <td>26.282313</td>\n",
       "      <td>18.575080</td>\n",
       "      <td>174.999533</td>\n",
       "      <td>1680.047333</td>\n",
       "      <td>0.129922</td>\n",
       "      <td>0.172020</td>\n",
       "      <td>256.476000</td>\n",
       "      <td>0.135103</td>\n",
       "      <td>0.234326</td>\n",
       "      <td>...</td>\n",
       "      <td>29.196813</td>\n",
       "      <td>21.593207</td>\n",
       "      <td>197.149733</td>\n",
       "      <td>2040.150000</td>\n",
       "      <td>0.177979</td>\n",
       "      <td>265.543333</td>\n",
       "      <td>0.518133</td>\n",
       "      <td>0.210492</td>\n",
       "      <td>0.306217</td>\n",
       "      <td>0.099456</td>\n",
       "    </tr>\n",
       "  </tbody>\n",
       "</table>\n",
       "<p>5 rows × 31 columns</p>\n",
       "</div>"
      ],
      "text/plain": [
       "   Type  URL_LENGTH  NUMBER_SPECIAL_CHARACTERS  TCP_CONVERSATION_EXCHANGE  \\\n",
       "0     1   23.303047                  13.445560                 159.066933   \n",
       "1     1   26.645007                  23.018073                 172.149800   \n",
       "2     1   25.505113                  27.525833                 168.393333   \n",
       "3     1   14.792707                  26.398893                 100.491960   \n",
       "4     1   26.282313                  18.575080                 174.999533   \n",
       "\n",
       "   DIST_REMOTE_TCP_PORT  REMOTE_IPS  APP_BYTES  SOURCE_APP_PACKETS  \\\n",
       "0           1296.628667    0.153367   0.359585            0.388730   \n",
       "1           1717.612000    0.109767   0.101865            0.112564   \n",
       "2           1558.286000    0.141969   0.207124            0.255699   \n",
       "3            500.128200    0.184585   0.367745            0.312693   \n",
       "4           1680.047333    0.129922   0.172020          256.476000   \n",
       "\n",
       "   REMOTE_APP_PACKETS  SOURCE_APP_BYTES  ...   SOURCE_I   SOURCE_J  \\\n",
       "0            0.190544          0.313341  ...  32.875560  22.448127   \n",
       "1            0.090894          0.234714  ...  32.370380  30.323753   \n",
       "2            0.165673          0.268004  ...  30.531007  33.069860   \n",
       "3            0.136269          0.336398  ...  19.313420  34.326333   \n",
       "4            0.135103          0.234326  ...  29.196813  21.593207   \n",
       "\n",
       "     SOURCE_K     SOURCE_M  SOURCE_L    SOURCE_N  SOURCE_O    SOURCE_P  \\\n",
       "0  239.118533  2615.278000  0.210103    0.862174  0.922148    0.343781   \n",
       "1  205.698933  2533.672000  0.160362    0.241709  0.312953  240.932000   \n",
       "2  197.538333  2213.724667  0.187046    0.549869  0.583418  314.766000   \n",
       "3  128.069607   735.360733  0.271761    1.122147  0.889764    0.333548   \n",
       "4  197.149733  2040.150000  0.177979  265.543333  0.518133    0.210492   \n",
       "\n",
       "     SOURCE_R    SOURCE_S  \n",
       "0    0.595983    0.154015  \n",
       "1  356.216667    0.115311  \n",
       "2    0.468004    0.113445  \n",
       "3    0.859842  224.092667  \n",
       "4    0.306217    0.099456  \n",
       "\n",
       "[5 rows x 31 columns]"
      ]
     },
     "execution_count": 6,
     "metadata": {},
     "output_type": "execute_result"
    }
   ],
   "source": [
    "data.head()"
   ]
  },
  {
   "cell_type": "code",
   "execution_count": 7,
   "id": "df01228f-c521-4117-92dd-0f0fb71ac7a3",
   "metadata": {},
   "outputs": [
    {
     "data": {
      "text/plain": [
       "(548, 31)"
      ]
     },
     "execution_count": 7,
     "metadata": {},
     "output_type": "execute_result"
    }
   ],
   "source": [
    "data.shape"
   ]
  },
  {
   "cell_type": "code",
   "execution_count": 8,
   "id": "fc14784d-9a53-4dfe-829e-9a0c7e85d1d2",
   "metadata": {
    "scrolled": true
   },
   "outputs": [
    {
     "name": "stdout",
     "output_type": "stream",
     "text": [
      "<class 'pandas.core.frame.DataFrame'>\n",
      "RangeIndex: 548 entries, 0 to 547\n",
      "Data columns (total 31 columns):\n",
      " #   Column                     Non-Null Count  Dtype  \n",
      "---  ------                     --------------  -----  \n",
      " 0   Type                       548 non-null    int64  \n",
      " 1   URL_LENGTH                 548 non-null    float64\n",
      " 2   NUMBER_SPECIAL_CHARACTERS  548 non-null    float64\n",
      " 3   TCP_CONVERSATION_EXCHANGE  548 non-null    float64\n",
      " 4   DIST_REMOTE_TCP_PORT       548 non-null    float64\n",
      " 5   REMOTE_IPS                 548 non-null    float64\n",
      " 6   APP_BYTES                  548 non-null    float64\n",
      " 7   SOURCE_APP_PACKETS         548 non-null    float64\n",
      " 8   REMOTE_APP_PACKETS         548 non-null    float64\n",
      " 9   SOURCE_APP_BYTES           548 non-null    float64\n",
      " 10  REMOTE_APP_BYTES           548 non-null    float64\n",
      " 11  APP_PACKETS                548 non-null    float64\n",
      " 12  DNS_QUERY_TIMES            548 non-null    float64\n",
      " 13  SOURCE_A                   548 non-null    float64\n",
      " 14  SOURCE_B                   548 non-null    float64\n",
      " 15  SOURCE_C                   548 non-null    float64\n",
      " 16  SOURCE_D                   548 non-null    float64\n",
      " 17  SOURCE_F                   548 non-null    float64\n",
      " 18  SOURCE_E                   548 non-null    float64\n",
      " 19  SOURCE_G                   548 non-null    float64\n",
      " 20  SOURCE_H                   548 non-null    float64\n",
      " 21  SOURCE_I                   548 non-null    float64\n",
      " 22  SOURCE_J                   548 non-null    float64\n",
      " 23  SOURCE_K                   548 non-null    float64\n",
      " 24  SOURCE_M                   548 non-null    float64\n",
      " 25  SOURCE_L                   548 non-null    float64\n",
      " 26  SOURCE_N                   548 non-null    float64\n",
      " 27  SOURCE_O                   548 non-null    float64\n",
      " 28  SOURCE_P                   548 non-null    float64\n",
      " 29  SOURCE_R                   548 non-null    float64\n",
      " 30  SOURCE_S                   548 non-null    float64\n",
      "dtypes: float64(30), int64(1)\n",
      "memory usage: 132.8 KB\n"
     ]
    }
   ],
   "source": [
    "data.info()"
   ]
  },
  {
   "cell_type": "code",
   "execution_count": 9,
   "id": "8ba663ca-92d4-419f-9bfc-353000b457d3",
   "metadata": {},
   "outputs": [
    {
     "data": {
      "image/png": "[encoded data removed]",
      "text/plain": [
       "<Figure size 640x480 with 1 Axes>"
      ]
     },
     "metadata": {},
     "output_type": "display_data"
    }
   ],
   "source": [
    "df.corr()[\"Type\"].sort_values(ascending=False).plot(kind=\"bar\");"
   ]
  },
  {
   "cell_type": "code",
   "execution_count": 11,
   "id": "dbbdbafc-bca5-40ca-ba70-d2d143f94f1a",
   "metadata": {},
   "outputs": [
    {
     "data": {
      "text/plain": [
       "((548, 30), (548, 1))"
      ]
     },
     "execution_count": 11,
     "metadata": {},
     "output_type": "execute_result"
    }
   ],
   "source": [
    "X = df.drop(\"Type\", axis=1).values\n",
    "y = df[[\"Type\"]]\n",
    "X.shape, y.shape"
   ]
  },
  {
   "cell_type": "code",
   "execution_count": 13,
   "id": "e8d2b611-c569-416f-9bf8-9ec67b178626",
   "metadata": {},
   "outputs": [],
   "source": [
    "X_train, X_test, y_train, y_test = train_test_split(X, y, test_size=.25, random_state=24)"
   ]
  },
  {
   "cell_type": "code",
   "execution_count": 14,
   "id": "97e251d4-11f5-4711-b551-b9c3e2b3f307",
   "metadata": {},
   "outputs": [],
   "source": [
    "scaler = MinMaxScaler()"
   ]
  },
  {
   "cell_type": "code",
   "execution_count": 15,
   "id": "32cbc437-0dc0-428f-bb6c-449aebb8c6bc",
   "metadata": {},
   "outputs": [],
   "source": [
    "X_train = scaler.fit_transform(X_train)\n",
    "X_test = scaler.fit_transform(X_test)"
   ]
  },
  {
   "cell_type": "code",
   "execution_count": 75,
   "id": "adf031a6-cbf7-40d5-ba77-0c4f3df8ca43",
   "metadata": {},
   "outputs": [],
   "source": [
    "earlyStop = EarlyStopping(monitor=\"val_loss\", mode=\"min\", patience=25, verbose=1)"
   ]
  },
  {
   "cell_type": "code",
   "execution_count": 84,
   "id": "15ffb265-622f-46c0-9943-1bbc3d6ddcc3",
   "metadata": {},
   "outputs": [],
   "source": [
    "model = Sequential()\n",
    "\n",
    "model.add(Dense(units=30, activation=\"relu\"))\n",
    "model.add(Dropout(.6))\n",
    "model.add(Dense(units=15, activation=\"relu\"))\n",
    "model.add(Dropout(.6))\n",
    "model.add(Dense(units=15, activation=\"relu\"))\n",
    "model.add(Dropout(.6))\n",
    "\n",
    "model.add(Dense(units=1, activation=\"sigmoid\"))\n",
    "\n",
    "model.compile(loss=\"binary_crossentropy\", optimizer=\"adam\")"
   ]
  },
  {
   "cell_type": "code",
   "execution_count": 85,
   "id": "81a86ea6-e6d9-4047-949e-8343d4213b77",
   "metadata": {
    "scrolled": true
   },
   "outputs": [
    {
     "name": "stdout",
     "output_type": "stream",
     "text": [
      "Epoch 1/700\n",
      "13/13 [==============================] - 1s 10ms/step - loss: 0.7053 - val_loss: 0.6834\n",
      "Epoch 2/700\n",
      "13/13 [==============================] - 0s 3ms/step - loss: 0.7052 - val_loss: 0.6806\n",
      "Epoch 3/700\n",
      "13/13 [==============================] - 0s 3ms/step - loss: 0.6866 - val_loss: 0.6774\n",
      "Epoch 4/700\n",
      "13/13 [==============================] - 0s 3ms/step - loss: 0.6809 - val_loss: 0.6743\n",
      "Epoch 5/700\n",
      "13/13 [==============================] - 0s 3ms/step - loss: 0.6800 - val_loss: 0.6721\n",
      "Epoch 6/700\n",
      "13/13 [==============================] - 0s 3ms/step - loss: 0.6789 - val_loss: 0.6716\n",
      "Epoch 7/700\n",
      "13/13 [==============================] - 0s 3ms/step - loss: 0.6690 - val_loss: 0.6700\n",
      "Epoch 8/700\n",
      "13/13 [==============================] - 0s 3ms/step - loss: 0.6704 - val_loss: 0.6682\n",
      "Epoch 9/700\n",
      "13/13 [==============================] - 0s 3ms/step - loss: 0.6748 - val_loss: 0.6680\n",
      "Epoch 10/700\n",
      "13/13 [==============================] - 0s 3ms/step - loss: 0.6670 - val_loss: 0.6665\n",
      "Epoch 11/700\n",
      "13/13 [==============================] - 0s 3ms/step - loss: 0.6453 - val_loss: 0.6664\n",
      "Epoch 12/700\n",
      "13/13 [==============================] - 0s 3ms/step - loss: 0.6684 - val_loss: 0.6669\n",
      "Epoch 13/700\n",
      "13/13 [==============================] - 0s 3ms/step - loss: 0.6651 - val_loss: 0.6650\n",
      "Epoch 14/700\n",
      "13/13 [==============================] - 0s 3ms/step - loss: 0.6457 - val_loss: 0.6627\n",
      "Epoch 15/700\n",
      "13/13 [==============================] - 0s 3ms/step - loss: 0.6662 - val_loss: 0.6621\n",
      "Epoch 16/700\n",
      "13/13 [==============================] - 0s 3ms/step - loss: 0.6513 - val_loss: 0.6598\n",
      "Epoch 17/700\n",
      "13/13 [==============================] - 0s 3ms/step - loss: 0.6509 - val_loss: 0.6537\n",
      "Epoch 18/700\n",
      "13/13 [==============================] - 0s 3ms/step - loss: 0.6378 - val_loss: 0.6515\n",
      "Epoch 19/700\n",
      "13/13 [==============================] - 0s 3ms/step - loss: 0.6389 - val_loss: 0.6504\n",
      "Epoch 20/700\n",
      "13/13 [==============================] - 0s 3ms/step - loss: 0.6280 - val_loss: 0.6458\n",
      "Epoch 21/700\n",
      "13/13 [==============================] - 0s 3ms/step - loss: 0.6318 - val_loss: 0.6383\n",
      "Epoch 22/700\n",
      "13/13 [==============================] - 0s 3ms/step - loss: 0.6009 - val_loss: 0.6312\n",
      "Epoch 23/700\n",
      "13/13 [==============================] - 0s 3ms/step - loss: 0.6127 - val_loss: 0.6295\n",
      "Epoch 24/700\n",
      "13/13 [==============================] - 0s 3ms/step - loss: 0.6338 - val_loss: 0.6318\n",
      "Epoch 25/700\n",
      "13/13 [==============================] - 0s 4ms/step - loss: 0.6179 - val_loss: 0.6219\n",
      "Epoch 26/700\n",
      "13/13 [==============================] - 0s 3ms/step - loss: 0.5961 - val_loss: 0.6149\n",
      "Epoch 27/700\n",
      "13/13 [==============================] - 0s 3ms/step - loss: 0.5953 - val_loss: 0.6090\n",
      "Epoch 28/700\n",
      "13/13 [==============================] - 0s 3ms/step - loss: 0.5849 - val_loss: 0.6032\n",
      "Epoch 29/700\n",
      "13/13 [==============================] - 0s 3ms/step - loss: 0.5858 - val_loss: 0.6053\n",
      "Epoch 30/700\n",
      "13/13 [==============================] - 0s 3ms/step - loss: 0.5617 - val_loss: 0.6008\n",
      "Epoch 31/700\n",
      "13/13 [==============================] - 0s 3ms/step - loss: 0.5455 - val_loss: 0.5816\n",
      "Epoch 32/700\n",
      "13/13 [==============================] - 0s 3ms/step - loss: 0.5682 - val_loss: 0.5812\n",
      "Epoch 33/700\n",
      "13/13 [==============================] - 0s 3ms/step - loss: 0.5469 - val_loss: 0.5818\n",
      "Epoch 34/700\n",
      "13/13 [==============================] - 0s 3ms/step - loss: 0.5503 - val_loss: 0.5656\n",
      "Epoch 35/700\n",
      "13/13 [==============================] - 0s 3ms/step - loss: 0.5602 - val_loss: 0.5502\n",
      "Epoch 36/700\n",
      "13/13 [==============================] - 0s 3ms/step - loss: 0.5338 - val_loss: 0.5321\n",
      "Epoch 37/700\n",
      "13/13 [==============================] - 0s 3ms/step - loss: 0.4993 - val_loss: 0.5046\n",
      "Epoch 38/700\n",
      "13/13 [==============================] - 0s 3ms/step - loss: 0.5191 - val_loss: 0.5235\n",
      "Epoch 39/700\n",
      "13/13 [==============================] - 0s 3ms/step - loss: 0.4833 - val_loss: 0.5072\n",
      "Epoch 40/700\n",
      "13/13 [==============================] - 0s 3ms/step - loss: 0.4862 - val_loss: 0.4993\n",
      "Epoch 41/700\n",
      "13/13 [==============================] - 0s 3ms/step - loss: 0.4724 - val_loss: 0.5053\n",
      "Epoch 42/700\n",
      "13/13 [==============================] - 0s 3ms/step - loss: 0.4667 - val_loss: 0.5089\n",
      "Epoch 43/700\n",
      "13/13 [==============================] - 0s 3ms/step - loss: 0.4833 - val_loss: 0.4851\n",
      "Epoch 44/700\n",
      "13/13 [==============================] - 0s 3ms/step - loss: 0.4621 - val_loss: 0.4614\n",
      "Epoch 45/700\n",
      "13/13 [==============================] - 0s 3ms/step - loss: 0.4367 - val_loss: 0.4679\n",
      "Epoch 46/700\n",
      "13/13 [==============================] - 0s 3ms/step - loss: 0.4518 - val_loss: 0.4454\n",
      "Epoch 47/700\n",
      "13/13 [==============================] - 0s 3ms/step - loss: 0.4937 - val_loss: 0.4679\n",
      "Epoch 48/700\n",
      "13/13 [==============================] - 0s 3ms/step - loss: 0.4183 - val_loss: 0.4323\n",
      "Epoch 49/700\n",
      "13/13 [==============================] - 0s 3ms/step - loss: 0.4358 - val_loss: 0.4335\n",
      "Epoch 50/700\n",
      "13/13 [==============================] - 0s 3ms/step - loss: 0.4032 - val_loss: 0.4431\n",
      "Epoch 51/700\n",
      "13/13 [==============================] - 0s 3ms/step - loss: 0.4300 - val_loss: 0.4496\n",
      "Epoch 52/700\n",
      "13/13 [==============================] - 0s 3ms/step - loss: 0.3886 - val_loss: 0.4229\n",
      "Epoch 53/700\n",
      "13/13 [==============================] - 0s 3ms/step - loss: 0.4262 - val_loss: 0.4065\n",
      "Epoch 54/700\n",
      "13/13 [==============================] - 0s 3ms/step - loss: 0.3872 - val_loss: 0.4269\n",
      "Epoch 55/700\n",
      "13/13 [==============================] - 0s 3ms/step - loss: 0.3861 - val_loss: 0.4070\n",
      "Epoch 56/700\n",
      "13/13 [==============================] - 0s 3ms/step - loss: 0.3986 - val_loss: 0.3698\n",
      "Epoch 57/700\n",
      "13/13 [==============================] - 0s 3ms/step - loss: 0.3821 - val_loss: 0.3813\n",
      "Epoch 58/700\n",
      "13/13 [==============================] - 0s 3ms/step - loss: 0.3769 - val_loss: 0.3898\n",
      "Epoch 59/700\n",
      "13/13 [==============================] - 0s 3ms/step - loss: 0.4008 - val_loss: 0.4094\n",
      "Epoch 60/700\n",
      "13/13 [==============================] - 0s 3ms/step - loss: 0.3768 - val_loss: 0.3858\n",
      "Epoch 61/700\n",
      "13/13 [==============================] - 0s 3ms/step - loss: 0.3692 - val_loss: 0.4116\n",
      "Epoch 62/700\n",
      "13/13 [==============================] - 0s 3ms/step - loss: 0.3285 - val_loss: 0.3729\n",
      "Epoch 63/700\n",
      "13/13 [==============================] - 0s 4ms/step - loss: 0.3321 - val_loss: 0.3677\n",
      "Epoch 64/700\n",
      "13/13 [==============================] - 0s 3ms/step - loss: 0.3792 - val_loss: 0.4006\n",
      "Epoch 65/700\n",
      "13/13 [==============================] - 0s 3ms/step - loss: 0.3776 - val_loss: 0.3796\n",
      "Epoch 66/700\n",
      "13/13 [==============================] - 0s 3ms/step - loss: 0.3392 - val_loss: 0.3734\n",
      "Epoch 67/700\n",
      "13/13 [==============================] - 0s 3ms/step - loss: 0.3468 - val_loss: 0.3814\n",
      "Epoch 68/700\n",
      "13/13 [==============================] - 0s 3ms/step - loss: 0.3328 - val_loss: 0.3592\n",
      "Epoch 69/700\n",
      "13/13 [==============================] - 0s 3ms/step - loss: 0.3397 - val_loss: 0.3755\n",
      "Epoch 70/700\n",
      "13/13 [==============================] - 0s 3ms/step - loss: 0.3500 - val_loss: 0.3680\n",
      "Epoch 71/700\n",
      "13/13 [==============================] - 0s 3ms/step - loss: 0.3104 - val_loss: 0.3621\n",
      "Epoch 72/700\n",
      "13/13 [==============================] - 0s 3ms/step - loss: 0.3135 - val_loss: 0.3704\n",
      "Epoch 73/700\n",
      "13/13 [==============================] - 0s 3ms/step - loss: 0.3376 - val_loss: 0.3448\n",
      "Epoch 74/700\n",
      "13/13 [==============================] - 0s 3ms/step - loss: 0.3142 - val_loss: 0.3670\n",
      "Epoch 75/700\n",
      "13/13 [==============================] - 0s 3ms/step - loss: 0.3321 - val_loss: 0.3466\n",
      "Epoch 76/700\n",
      "13/13 [==============================] - 0s 3ms/step - loss: 0.3567 - val_loss: 0.3348\n",
      "Epoch 77/700\n",
      "13/13 [==============================] - 0s 3ms/step - loss: 0.3298 - val_loss: 0.3203\n",
      "Epoch 78/700\n",
      "13/13 [==============================] - 0s 3ms/step - loss: 0.3445 - val_loss: 0.3124\n",
      "Epoch 79/700\n",
      "13/13 [==============================] - 0s 3ms/step - loss: 0.3108 - val_loss: 0.3009\n",
      "Epoch 80/700\n",
      "13/13 [==============================] - 0s 3ms/step - loss: 0.3283 - val_loss: 0.2992\n",
      "Epoch 81/700\n",
      "13/13 [==============================] - 0s 3ms/step - loss: 0.3331 - val_loss: 0.3076\n",
      "Epoch 82/700\n",
      "13/13 [==============================] - 0s 3ms/step - loss: 0.3276 - val_loss: 0.2916\n",
      "Epoch 83/700\n",
      "13/13 [==============================] - 0s 3ms/step - loss: 0.3346 - val_loss: 0.3088\n",
      "Epoch 84/700\n",
      "13/13 [==============================] - 0s 3ms/step - loss: 0.3473 - val_loss: 0.3118\n",
      "Epoch 85/700\n",
      "13/13 [==============================] - 0s 3ms/step - loss: 0.2679 - val_loss: 0.3236\n",
      "Epoch 86/700\n",
      "13/13 [==============================] - 0s 3ms/step - loss: 0.2826 - val_loss: 0.3190\n",
      "Epoch 87/700\n",
      "13/13 [==============================] - 0s 3ms/step - loss: 0.2797 - val_loss: 0.3159\n",
      "Epoch 88/700\n",
      "13/13 [==============================] - 0s 3ms/step - loss: 0.2783 - val_loss: 0.3259\n",
      "Epoch 89/700\n",
      "13/13 [==============================] - 0s 3ms/step - loss: 0.3083 - val_loss: 0.3021\n",
      "Epoch 90/700\n",
      "13/13 [==============================] - 0s 3ms/step - loss: 0.2993 - val_loss: 0.2990\n",
      "Epoch 91/700\n",
      "13/13 [==============================] - 0s 3ms/step - loss: 0.2991 - val_loss: 0.2935\n",
      "Epoch 92/700\n",
      "13/13 [==============================] - 0s 3ms/step - loss: 0.3361 - val_loss: 0.2910\n",
      "Epoch 93/700\n",
      "13/13 [==============================] - 0s 3ms/step - loss: 0.2783 - val_loss: 0.3108\n",
      "Epoch 94/700\n",
      "13/13 [==============================] - 0s 3ms/step - loss: 0.2830 - val_loss: 0.3101\n",
      "Epoch 95/700\n",
      "13/13 [==============================] - 0s 3ms/step - loss: 0.2958 - val_loss: 0.3166\n",
      "Epoch 96/700\n",
      "13/13 [==============================] - 0s 3ms/step - loss: 0.2649 - val_loss: 0.2896\n",
      "Epoch 97/700\n",
      "13/13 [==============================] - 0s 3ms/step - loss: 0.2887 - val_loss: 0.2979\n",
      "Epoch 98/700\n",
      "13/13 [==============================] - 0s 3ms/step - loss: 0.2803 - val_loss: 0.3080\n",
      "Epoch 99/700\n",
      "13/13 [==============================] - 0s 3ms/step - loss: 0.2375 - val_loss: 0.3039\n",
      "Epoch 100/700\n",
      "13/13 [==============================] - 0s 3ms/step - loss: 0.2681 - val_loss: 0.2980\n",
      "Epoch 101/700\n",
      "13/13 [==============================] - 0s 3ms/step - loss: 0.2792 - val_loss: 0.2881\n",
      "Epoch 102/700\n",
      "13/13 [==============================] - 0s 3ms/step - loss: 0.2475 - val_loss: 0.2960\n",
      "Epoch 103/700\n",
      "13/13 [==============================] - 0s 3ms/step - loss: 0.2864 - val_loss: 0.2909\n",
      "Epoch 104/700\n",
      "13/13 [==============================] - 0s 3ms/step - loss: 0.2569 - val_loss: 0.3072\n",
      "Epoch 105/700\n",
      "13/13 [==============================] - 0s 3ms/step - loss: 0.2583 - val_loss: 0.2893\n",
      "Epoch 106/700\n",
      "13/13 [==============================] - 0s 3ms/step - loss: 0.2713 - val_loss: 0.3010\n",
      "Epoch 107/700\n",
      "13/13 [==============================] - 0s 3ms/step - loss: 0.2689 - val_loss: 0.2897\n",
      "Epoch 108/700\n",
      "13/13 [==============================] - 0s 3ms/step - loss: 0.2475 - val_loss: 0.3094\n",
      "Epoch 109/700\n",
      "13/13 [==============================] - 0s 3ms/step - loss: 0.2667 - val_loss: 0.2840\n",
      "Epoch 110/700\n",
      "13/13 [==============================] - 0s 3ms/step - loss: 0.2697 - val_loss: 0.3069\n",
      "Epoch 111/700\n",
      "13/13 [==============================] - 0s 3ms/step - loss: 0.2341 - val_loss: 0.3187\n",
      "Epoch 112/700\n",
      "13/13 [==============================] - 0s 3ms/step - loss: 0.2599 - val_loss: 0.2934\n",
      "Epoch 113/700\n",
      "13/13 [==============================] - 0s 3ms/step - loss: 0.2363 - val_loss: 0.2775\n",
      "Epoch 114/700\n",
      "13/13 [==============================] - 0s 3ms/step - loss: 0.2689 - val_loss: 0.2813\n",
      "Epoch 115/700\n",
      "13/13 [==============================] - 0s 4ms/step - loss: 0.2436 - val_loss: 0.3054\n",
      "Epoch 116/700\n",
      "13/13 [==============================] - 0s 3ms/step - loss: 0.2354 - val_loss: 0.3230\n",
      "Epoch 117/700\n",
      "13/13 [==============================] - 0s 3ms/step - loss: 0.2447 - val_loss: 0.3066\n",
      "Epoch 118/700\n",
      "13/13 [==============================] - 0s 3ms/step - loss: 0.2574 - val_loss: 0.2827\n",
      "Epoch 119/700\n",
      "13/13 [==============================] - 0s 3ms/step - loss: 0.2346 - val_loss: 0.3158\n",
      "Epoch 120/700\n",
      "13/13 [==============================] - 0s 3ms/step - loss: 0.2124 - val_loss: 0.3150\n",
      "Epoch 121/700\n",
      "13/13 [==============================] - 0s 3ms/step - loss: 0.2849 - val_loss: 0.3017\n",
      "Epoch 122/700\n",
      "13/13 [==============================] - 0s 3ms/step - loss: 0.2285 - val_loss: 0.3040\n",
      "Epoch 123/700\n",
      "13/13 [==============================] - 0s 3ms/step - loss: 0.2431 - val_loss: 0.3129\n",
      "Epoch 124/700\n",
      "13/13 [==============================] - 0s 3ms/step - loss: 0.2533 - val_loss: 0.3099\n",
      "Epoch 125/700\n",
      "13/13 [==============================] - 0s 3ms/step - loss: 0.2343 - val_loss: 0.2996\n",
      "Epoch 126/700\n",
      "13/13 [==============================] - 0s 3ms/step - loss: 0.2300 - val_loss: 0.3002\n",
      "Epoch 127/700\n",
      "13/13 [==============================] - 0s 3ms/step - loss: 0.2346 - val_loss: 0.3039\n",
      "Epoch 128/700\n",
      "13/13 [==============================] - 0s 3ms/step - loss: 0.2280 - val_loss: 0.3006\n",
      "Epoch 129/700\n",
      "13/13 [==============================] - 0s 3ms/step - loss: 0.2095 - val_loss: 0.2752\n",
      "Epoch 130/700\n",
      "13/13 [==============================] - 0s 3ms/step - loss: 0.2402 - val_loss: 0.2836\n",
      "Epoch 131/700\n",
      "13/13 [==============================] - 0s 3ms/step - loss: 0.2479 - val_loss: 0.2858\n",
      "Epoch 132/700\n",
      "13/13 [==============================] - 0s 3ms/step - loss: 0.2404 - val_loss: 0.2596\n",
      "Epoch 133/700\n",
      "13/13 [==============================] - 0s 3ms/step - loss: 0.2486 - val_loss: 0.2593\n",
      "Epoch 134/700\n",
      "13/13 [==============================] - 0s 3ms/step - loss: 0.2172 - val_loss: 0.2951\n",
      "Epoch 135/700\n",
      "13/13 [==============================] - 0s 3ms/step - loss: 0.2259 - val_loss: 0.3142\n",
      "Epoch 136/700\n",
      "13/13 [==============================] - 0s 3ms/step - loss: 0.1935 - val_loss: 0.3088\n",
      "Epoch 137/700\n",
      "13/13 [==============================] - 0s 3ms/step - loss: 0.2271 - val_loss: 0.2885\n",
      "Epoch 138/700\n",
      "13/13 [==============================] - 0s 3ms/step - loss: 0.2299 - val_loss: 0.3088\n",
      "Epoch 139/700\n",
      "13/13 [==============================] - 0s 3ms/step - loss: 0.2171 - val_loss: 0.3005\n",
      "Epoch 140/700\n",
      "13/13 [==============================] - 0s 3ms/step - loss: 0.1859 - val_loss: 0.3033\n",
      "Epoch 141/700\n",
      "13/13 [==============================] - 0s 3ms/step - loss: 0.1873 - val_loss: 0.3216\n",
      "Epoch 142/700\n",
      "13/13 [==============================] - 0s 3ms/step - loss: 0.2080 - val_loss: 0.3134\n",
      "Epoch 143/700\n",
      "13/13 [==============================] - 0s 3ms/step - loss: 0.2112 - val_loss: 0.2900\n",
      "Epoch 144/700\n",
      "13/13 [==============================] - 0s 3ms/step - loss: 0.2177 - val_loss: 0.3056\n",
      "Epoch 145/700\n",
      "13/13 [==============================] - 0s 3ms/step - loss: 0.2683 - val_loss: 0.3039\n",
      "Epoch 146/700\n",
      "13/13 [==============================] - 0s 3ms/step - loss: 0.1917 - val_loss: 0.2700\n",
      "Epoch 147/700\n",
      "13/13 [==============================] - 0s 3ms/step - loss: 0.2271 - val_loss: 0.2795\n",
      "Epoch 148/700\n",
      "13/13 [==============================] - 0s 3ms/step - loss: 0.2060 - val_loss: 0.2784\n",
      "Epoch 149/700\n",
      "13/13 [==============================] - 0s 3ms/step - loss: 0.2142 - val_loss: 0.2940\n",
      "Epoch 150/700\n",
      "13/13 [==============================] - 0s 3ms/step - loss: 0.1965 - val_loss: 0.3105\n",
      "Epoch 151/700\n",
      "13/13 [==============================] - 0s 3ms/step - loss: 0.1904 - val_loss: 0.3190\n",
      "Epoch 152/700\n",
      "13/13 [==============================] - 0s 3ms/step - loss: 0.2254 - val_loss: 0.3278\n",
      "Epoch 153/700\n",
      "13/13 [==============================] - 0s 3ms/step - loss: 0.1977 - val_loss: 0.3343\n",
      "Epoch 154/700\n",
      "13/13 [==============================] - 0s 3ms/step - loss: 0.1966 - val_loss: 0.3008\n",
      "Epoch 155/700\n",
      "13/13 [==============================] - 0s 3ms/step - loss: 0.2081 - val_loss: 0.2959\n",
      "Epoch 156/700\n",
      "13/13 [==============================] - 0s 3ms/step - loss: 0.1796 - val_loss: 0.3120\n",
      "Epoch 157/700\n",
      "13/13 [==============================] - 0s 3ms/step - loss: 0.1839 - val_loss: 0.3234\n",
      "Epoch 158/700\n",
      "13/13 [==============================] - 0s 3ms/step - loss: 0.1762 - val_loss: 0.3072\n",
      "Epoch 158: early stopping\n"
     ]
    },
    {
     "data": {
      "text/plain": [
       "<keras.src.callbacks.History at 0x23b4374b5d0>"
      ]
     },
     "execution_count": 85,
     "metadata": {},
     "output_type": "execute_result"
    }
   ],
   "source": [
    "model.fit(x=X_train, y=y_train, epochs=700, validation_data=(X_test, y_test), callbacks=[earlyStop])"
   ]
  },
  {
   "cell_type": "code",
   "execution_count": 86,
   "id": "56c07515-3160-4bfa-aa53-cefc1a7fe356",
   "metadata": {},
   "outputs": [
    {
     "data": {
      "image/png": "[encoded data removed]",
      "text/plain": [
       "<Figure size 640x480 with 1 Axes>"
      ]
     },
     "metadata": {},
     "output_type": "display_data"
    }
   ],
   "source": [
    "loss = pd.DataFrame(model.history.history)\n",
    "loss.plot();"
   ]
  },
  {
   "cell_type": "code",
   "execution_count": 87,
   "id": "f180ee93-7719-4708-9fc4-0938143ecf82",
   "metadata": {},
   "outputs": [
    {
     "name": "stdout",
     "output_type": "stream",
     "text": [
      "13/13 [==============================] - 0s 928us/step - loss: 0.0775\n"
     ]
    },
    {
     "data": {
      "text/plain": [
       "0.0774507224559784"
      ]
     },
     "execution_count": 87,
     "metadata": {},
     "output_type": "execute_result"
    }
   ],
   "source": [
    "model.evaluate(X_train, y_train)"
   ]
  },
  {
   "cell_type": "code",
   "execution_count": 88,
   "id": "6515d628-8f2c-4086-91f4-8660b1b7252d",
   "metadata": {},
   "outputs": [
    {
     "name": "stdout",
     "output_type": "stream",
     "text": [
      "5/5 [==============================] - 0s 1ms/step - loss: 0.3072\n"
     ]
    },
    {
     "data": {
      "text/plain": [
       "0.3072411119937897"
      ]
     },
     "execution_count": 88,
     "metadata": {},
     "output_type": "execute_result"
    }
   ],
   "source": [
    "model.evaluate(X_test, y_test)"
   ]
  },
  {
   "cell_type": "code",
   "execution_count": 92,
   "id": "961d7054-d4f7-4728-bd33-1511701fa808",
   "metadata": {},
   "outputs": [
    {
     "name": "stdout",
     "output_type": "stream",
     "text": [
      "5/5 [==============================] - 0s 1ms/step\n"
     ]
    }
   ],
   "source": [
    "y_pred = (model.predict(X_test) > 0.5).astype(\"int32\")"
   ]
  },
  {
   "cell_type": "code",
   "execution_count": 94,
   "id": "1113fc80-821b-4b2f-b6a7-f5018560fc52",
   "metadata": {},
   "outputs": [],
   "source": [
    "# Çoklu sınıflandırma için:\n",
    "# y_pred = np.argmax(model.predict(X_test), axis=-1)"
   ]
  },
  {
   "cell_type": "code",
   "execution_count": 95,
   "id": "71bf99d7-de31-4253-83db-bc1f1d6ed88e",
   "metadata": {},
   "outputs": [
    {
     "data": {
      "text/plain": [
       "0.927007299270073"
      ]
     },
     "execution_count": 95,
     "metadata": {},
     "output_type": "execute_result"
    }
   ],
   "source": [
    "accuracy_score(y_test, y_pred)"
   ]
  },
  {
   "cell_type": "code",
   "execution_count": 97,
   "id": "47387b39-1bee-42bd-926b-3885a1d76e16",
   "metadata": {},
   "outputs": [
    {
     "data": {
      "text/plain": [
       "array([[76,  2],\n",
       "       [ 8, 51]], dtype=int64)"
      ]
     },
     "execution_count": 97,
     "metadata": {},
     "output_type": "execute_result"
    }
   ],
   "source": [
    "confusion_matrix(y_test, y_pred)"
   ]
  },
  {
   "cell_type": "code",
   "execution_count": 99,
   "id": "392e5d82-6599-45ea-bad8-b5a5f1998307",
   "metadata": {},
   "outputs": [
    {
     "name": "stdout",
     "output_type": "stream",
     "text": [
      "              precision    recall  f1-score   support\n",
      "\n",
      "           0       0.90      0.97      0.94        78\n",
      "           1       0.96      0.86      0.91        59\n",
      "\n",
      "    accuracy                           0.93       137\n",
      "   macro avg       0.93      0.92      0.92       137\n",
      "weighted avg       0.93      0.93      0.93       137\n",
      "\n"
     ]
    }
   ],
   "source": [
    "print(classification_report(y_test, y_pred))"
   ]
  },
  {
   "cell_type": "code",
   "execution_count": null,
   "id": "0ff562ae-5fa3-46b3-b56f-6704ba93f4bb",
   "metadata": {},
   "outputs": [],
   "source": []
  }
 ],
 "metadata": {
  "kernelspec": {
   "display_name": "Python 3 (ipykernel)",
   "language": "python",
   "name": "python3"
  },
  "language_info": {
   "codemirror_mode": {
    "name": "ipython",
    "version": 3
   },
   "file_extension": ".py",
   "mimetype": "text/x-python",
   "name": "python",
   "nbconvert_exporter": "python",
   "pygments_lexer": "ipython3",
   "version": "3.11.6"
  }
 },
 "nbformat": 4,
 "nbformat_minor": 5
}
