{
 "cells": [
  {
   "cell_type": "code",
   "execution_count": 1,
   "id": "0e8c8e90-65bc-4263-9306-c569557eefa8",
   "metadata": {},
   "outputs": [],
   "source": [
    "import numpy as np\n",
    "import pandas as pd\n",
    "import matplotlib.pyplot as plt\n",
    "import seaborn as sns\n",
    "from sklearn.model_selection import train_test_split\n",
    "from sklearn.preprocessing import MinMaxScaler\n",
    "from sklearn.metrics import r2_score, mean_squared_error, mean_absolute_error\n",
    "from sklearn.neighbors import LocalOutlierFactor\n",
    "from tensorflow.keras.models import Sequential\n",
    "from tensorflow.keras.layers import Dense, Activation, Dropout\n",
    "from tensorflow.keras.callbacks import EarlyStopping\n",
    "import tensorflow as tf\n",
    "\n",
    "import warnings\n",
    "warnings.filterwarnings(\"ignore\")"
   ]
  },
  {
   "cell_type": "code",
   "execution_count": 3,
   "id": "90cfeb84-5697-45c3-bef0-cb048604a05d",
   "metadata": {},
   "outputs": [],
   "source": [
    "ford = pd.read_csv(\"ford.csv\")\n",
    "data = ford.copy()"
   ]
  },
  {
   "cell_type": "code",
   "execution_count": 5,
   "id": "f9e9a28c-2f51-4d45-b322-21c055d34077",
   "metadata": {},
   "outputs": [
    {
     "data": {
      "text/html": [
       "<div>\n",
       "<style scoped>\n",
       "    .dataframe tbody tr th:only-of-type {\n",
       "        vertical-align: middle;\n",
       "    }\n",
       "\n",
       "    .dataframe tbody tr th {\n",
       "        vertical-align: top;\n",
       "    }\n",
       "\n",
       "    .dataframe thead th {\n",
       "        text-align: right;\n",
       "    }\n",
       "</style>\n",
       "<table border=\"1\" class=\"dataframe\">\n",
       "  <thead>\n",
       "    <tr style=\"text-align: right;\">\n",
       "      <th></th>\n",
       "      <th>model</th>\n",
       "      <th>year</th>\n",
       "      <th>price</th>\n",
       "      <th>transmission</th>\n",
       "      <th>mileage</th>\n",
       "      <th>fuelType</th>\n",
       "      <th>tax</th>\n",
       "      <th>mpg</th>\n",
       "      <th>engineSize</th>\n",
       "    </tr>\n",
       "  </thead>\n",
       "  <tbody>\n",
       "    <tr>\n",
       "      <th>0</th>\n",
       "      <td>Fiesta</td>\n",
       "      <td>2017</td>\n",
       "      <td>12000</td>\n",
       "      <td>Automatic</td>\n",
       "      <td>15944</td>\n",
       "      <td>Petrol</td>\n",
       "      <td>150</td>\n",
       "      <td>57.7</td>\n",
       "      <td>1.0</td>\n",
       "    </tr>\n",
       "    <tr>\n",
       "      <th>1</th>\n",
       "      <td>Focus</td>\n",
       "      <td>2018</td>\n",
       "      <td>14000</td>\n",
       "      <td>Manual</td>\n",
       "      <td>9083</td>\n",
       "      <td>Petrol</td>\n",
       "      <td>150</td>\n",
       "      <td>57.7</td>\n",
       "      <td>1.0</td>\n",
       "    </tr>\n",
       "    <tr>\n",
       "      <th>2</th>\n",
       "      <td>Focus</td>\n",
       "      <td>2017</td>\n",
       "      <td>13000</td>\n",
       "      <td>Manual</td>\n",
       "      <td>12456</td>\n",
       "      <td>Petrol</td>\n",
       "      <td>150</td>\n",
       "      <td>57.7</td>\n",
       "      <td>1.0</td>\n",
       "    </tr>\n",
       "    <tr>\n",
       "      <th>3</th>\n",
       "      <td>Fiesta</td>\n",
       "      <td>2019</td>\n",
       "      <td>17500</td>\n",
       "      <td>Manual</td>\n",
       "      <td>10460</td>\n",
       "      <td>Petrol</td>\n",
       "      <td>145</td>\n",
       "      <td>40.3</td>\n",
       "      <td>1.5</td>\n",
       "    </tr>\n",
       "    <tr>\n",
       "      <th>4</th>\n",
       "      <td>Fiesta</td>\n",
       "      <td>2019</td>\n",
       "      <td>16500</td>\n",
       "      <td>Automatic</td>\n",
       "      <td>1482</td>\n",
       "      <td>Petrol</td>\n",
       "      <td>145</td>\n",
       "      <td>48.7</td>\n",
       "      <td>1.0</td>\n",
       "    </tr>\n",
       "    <tr>\n",
       "      <th>5</th>\n",
       "      <td>Fiesta</td>\n",
       "      <td>2015</td>\n",
       "      <td>10500</td>\n",
       "      <td>Manual</td>\n",
       "      <td>35432</td>\n",
       "      <td>Petrol</td>\n",
       "      <td>145</td>\n",
       "      <td>47.9</td>\n",
       "      <td>1.6</td>\n",
       "    </tr>\n",
       "    <tr>\n",
       "      <th>6</th>\n",
       "      <td>Puma</td>\n",
       "      <td>2019</td>\n",
       "      <td>22500</td>\n",
       "      <td>Manual</td>\n",
       "      <td>2029</td>\n",
       "      <td>Petrol</td>\n",
       "      <td>145</td>\n",
       "      <td>50.4</td>\n",
       "      <td>1.0</td>\n",
       "    </tr>\n",
       "    <tr>\n",
       "      <th>7</th>\n",
       "      <td>Fiesta</td>\n",
       "      <td>2017</td>\n",
       "      <td>9000</td>\n",
       "      <td>Manual</td>\n",
       "      <td>13054</td>\n",
       "      <td>Petrol</td>\n",
       "      <td>145</td>\n",
       "      <td>54.3</td>\n",
       "      <td>1.2</td>\n",
       "    </tr>\n",
       "    <tr>\n",
       "      <th>8</th>\n",
       "      <td>Kuga</td>\n",
       "      <td>2019</td>\n",
       "      <td>25500</td>\n",
       "      <td>Automatic</td>\n",
       "      <td>6894</td>\n",
       "      <td>Diesel</td>\n",
       "      <td>145</td>\n",
       "      <td>42.2</td>\n",
       "      <td>2.0</td>\n",
       "    </tr>\n",
       "    <tr>\n",
       "      <th>9</th>\n",
       "      <td>Focus</td>\n",
       "      <td>2018</td>\n",
       "      <td>10000</td>\n",
       "      <td>Manual</td>\n",
       "      <td>48141</td>\n",
       "      <td>Petrol</td>\n",
       "      <td>145</td>\n",
       "      <td>61.4</td>\n",
       "      <td>1.0</td>\n",
       "    </tr>\n",
       "  </tbody>\n",
       "</table>\n",
       "</div>"
      ],
      "text/plain": [
       "     model  year  price transmission  mileage fuelType  tax   mpg  engineSize\n",
       "0   Fiesta  2017  12000    Automatic    15944   Petrol  150  57.7         1.0\n",
       "1    Focus  2018  14000       Manual     9083   Petrol  150  57.7         1.0\n",
       "2    Focus  2017  13000       Manual    12456   Petrol  150  57.7         1.0\n",
       "3   Fiesta  2019  17500       Manual    10460   Petrol  145  40.3         1.5\n",
       "4   Fiesta  2019  16500    Automatic     1482   Petrol  145  48.7         1.0\n",
       "5   Fiesta  2015  10500       Manual    35432   Petrol  145  47.9         1.6\n",
       "6     Puma  2019  22500       Manual     2029   Petrol  145  50.4         1.0\n",
       "7   Fiesta  2017   9000       Manual    13054   Petrol  145  54.3         1.2\n",
       "8     Kuga  2019  25500    Automatic     6894   Diesel  145  42.2         2.0\n",
       "9    Focus  2018  10000       Manual    48141   Petrol  145  61.4         1.0"
      ]
     },
     "execution_count": 5,
     "metadata": {},
     "output_type": "execute_result"
    }
   ],
   "source": [
    "data.head(10)"
   ]
  },
  {
   "cell_type": "code",
   "execution_count": 6,
   "id": "a795b0ad-8b43-4674-81a1-23b45c34f91c",
   "metadata": {},
   "outputs": [
    {
     "name": "stdout",
     "output_type": "stream",
     "text": [
      "<class 'pandas.core.frame.DataFrame'>\n",
      "RangeIndex: 17966 entries, 0 to 17965\n",
      "Data columns (total 9 columns):\n",
      " #   Column        Non-Null Count  Dtype  \n",
      "---  ------        --------------  -----  \n",
      " 0   model         17966 non-null  object \n",
      " 1   year          17966 non-null  int64  \n",
      " 2   price         17966 non-null  int64  \n",
      " 3   transmission  17966 non-null  object \n",
      " 4   mileage       17966 non-null  int64  \n",
      " 5   fuelType      17966 non-null  object \n",
      " 6   tax           17966 non-null  int64  \n",
      " 7   mpg           17966 non-null  float64\n",
      " 8   engineSize    17966 non-null  float64\n",
      "dtypes: float64(2), int64(4), object(3)\n",
      "memory usage: 1.2+ MB\n"
     ]
    }
   ],
   "source": [
    "data.info()"
   ]
  },
  {
   "cell_type": "code",
   "execution_count": 7,
   "id": "c156d7e7",
   "metadata": {},
   "outputs": [
    {
     "data": {
      "text/plain": [
       "model           0\n",
       "year            0\n",
       "price           0\n",
       "transmission    0\n",
       "mileage         0\n",
       "fuelType        0\n",
       "tax             0\n",
       "mpg             0\n",
       "engineSize      0\n",
       "dtype: int64"
      ]
     },
     "execution_count": 7,
     "metadata": {},
     "output_type": "execute_result"
    }
   ],
   "source": [
    "data.isnull().sum()"
   ]
  },
  {
   "cell_type": "code",
   "execution_count": 8,
   "id": "44709c88-19b5-49ec-8301-ac939c1e3b97",
   "metadata": {},
   "outputs": [
    {
     "data": {
      "text/html": [
       "<div>\n",
       "<style scoped>\n",
       "    .dataframe tbody tr th:only-of-type {\n",
       "        vertical-align: middle;\n",
       "    }\n",
       "\n",
       "    .dataframe tbody tr th {\n",
       "        vertical-align: top;\n",
       "    }\n",
       "\n",
       "    .dataframe thead th {\n",
       "        text-align: right;\n",
       "    }\n",
       "</style>\n",
       "<table border=\"1\" class=\"dataframe\">\n",
       "  <thead>\n",
       "    <tr style=\"text-align: right;\">\n",
       "      <th></th>\n",
       "      <th>year</th>\n",
       "      <th>price</th>\n",
       "      <th>mileage</th>\n",
       "      <th>tax</th>\n",
       "      <th>mpg</th>\n",
       "      <th>engineSize</th>\n",
       "    </tr>\n",
       "  </thead>\n",
       "  <tbody>\n",
       "    <tr>\n",
       "      <th>count</th>\n",
       "      <td>17966.000000</td>\n",
       "      <td>17966.000000</td>\n",
       "      <td>17966.000000</td>\n",
       "      <td>17966.000000</td>\n",
       "      <td>17966.000000</td>\n",
       "      <td>17966.000000</td>\n",
       "    </tr>\n",
       "    <tr>\n",
       "      <th>mean</th>\n",
       "      <td>2016.866470</td>\n",
       "      <td>12279.534844</td>\n",
       "      <td>23362.608761</td>\n",
       "      <td>113.329456</td>\n",
       "      <td>57.906980</td>\n",
       "      <td>1.350807</td>\n",
       "    </tr>\n",
       "    <tr>\n",
       "      <th>std</th>\n",
       "      <td>2.050336</td>\n",
       "      <td>4741.343657</td>\n",
       "      <td>19472.054349</td>\n",
       "      <td>62.012456</td>\n",
       "      <td>10.125696</td>\n",
       "      <td>0.432367</td>\n",
       "    </tr>\n",
       "    <tr>\n",
       "      <th>min</th>\n",
       "      <td>1996.000000</td>\n",
       "      <td>495.000000</td>\n",
       "      <td>1.000000</td>\n",
       "      <td>0.000000</td>\n",
       "      <td>20.800000</td>\n",
       "      <td>0.000000</td>\n",
       "    </tr>\n",
       "    <tr>\n",
       "      <th>25%</th>\n",
       "      <td>2016.000000</td>\n",
       "      <td>8999.000000</td>\n",
       "      <td>9987.000000</td>\n",
       "      <td>30.000000</td>\n",
       "      <td>52.300000</td>\n",
       "      <td>1.000000</td>\n",
       "    </tr>\n",
       "    <tr>\n",
       "      <th>50%</th>\n",
       "      <td>2017.000000</td>\n",
       "      <td>11291.000000</td>\n",
       "      <td>18242.500000</td>\n",
       "      <td>145.000000</td>\n",
       "      <td>58.900000</td>\n",
       "      <td>1.200000</td>\n",
       "    </tr>\n",
       "    <tr>\n",
       "      <th>75%</th>\n",
       "      <td>2018.000000</td>\n",
       "      <td>15299.000000</td>\n",
       "      <td>31060.000000</td>\n",
       "      <td>145.000000</td>\n",
       "      <td>65.700000</td>\n",
       "      <td>1.500000</td>\n",
       "    </tr>\n",
       "    <tr>\n",
       "      <th>max</th>\n",
       "      <td>2060.000000</td>\n",
       "      <td>54995.000000</td>\n",
       "      <td>177644.000000</td>\n",
       "      <td>580.000000</td>\n",
       "      <td>201.800000</td>\n",
       "      <td>5.000000</td>\n",
       "    </tr>\n",
       "  </tbody>\n",
       "</table>\n",
       "</div>"
      ],
      "text/plain": [
       "               year         price        mileage           tax           mpg  \\\n",
       "count  17966.000000  17966.000000   17966.000000  17966.000000  17966.000000   \n",
       "mean    2016.866470  12279.534844   23362.608761    113.329456     57.906980   \n",
       "std        2.050336   4741.343657   19472.054349     62.012456     10.125696   \n",
       "min     1996.000000    495.000000       1.000000      0.000000     20.800000   \n",
       "25%     2016.000000   8999.000000    9987.000000     30.000000     52.300000   \n",
       "50%     2017.000000  11291.000000   18242.500000    145.000000     58.900000   \n",
       "75%     2018.000000  15299.000000   31060.000000    145.000000     65.700000   \n",
       "max     2060.000000  54995.000000  177644.000000    580.000000    201.800000   \n",
       "\n",
       "         engineSize  \n",
       "count  17966.000000  \n",
       "mean       1.350807  \n",
       "std        0.432367  \n",
       "min        0.000000  \n",
       "25%        1.000000  \n",
       "50%        1.200000  \n",
       "75%        1.500000  \n",
       "max        5.000000  "
      ]
     },
     "execution_count": 8,
     "metadata": {},
     "output_type": "execute_result"
    }
   ],
   "source": [
    "data.describe()"
   ]
  },
  {
   "cell_type": "code",
   "execution_count": 9,
   "id": "c12b38a5-5710-4119-a6d1-c89bae431126",
   "metadata": {},
   "outputs": [],
   "source": [
    "data = data.drop([\"model\",\"transmission\",\"fuelType\"], axis=1)"
   ]
  },
  {
   "cell_type": "code",
   "execution_count": 10,
   "id": "dab1b743-6ec3-4eae-a8e7-c23da110552a",
   "metadata": {},
   "outputs": [
    {
     "data": {
      "image/png": "[encoded data removed]",
      "text/plain": [
       "<Figure size 640x480 with 2 Axes>"
      ]
     },
     "metadata": {},
     "output_type": "display_data"
    }
   ],
   "source": [
    "sns.heatmap(data.corr(), annot=True, vmin=-1, vmax=1, cmap=\"twilight_shifted\");"
   ]
  },
  {
   "cell_type": "code",
   "execution_count": 11,
   "id": "4bd6572c-390d-4a38-9d2d-5012f373a51b",
   "metadata": {},
   "outputs": [
    {
     "data": {
      "image/png": "[encoded data removed]",
      "text/plain": [
       "<Figure size 1000x500 with 2 Axes>"
      ]
     },
     "metadata": {},
     "output_type": "display_data"
    }
   ],
   "source": [
    "plt.figure(figsize=(10, 5))\n",
    "plt.subplot(1, 2, 1)\n",
    "sns.boxplot(data=data, x=\"price\")\n",
    "plt.subplot(1, 2, 2)\n",
    "sns.distplot(data.price);\n",
    "plt.tight_layout()\n",
    "plt.show()"
   ]
  },
  {
   "cell_type": "code",
   "execution_count": 12,
   "id": "021e531c-ef58-4c95-81f4-4e30e9529b6a",
   "metadata": {},
   "outputs": [
    {
     "data": {
      "text/plain": [
       "array([1, 1, 1, ..., 1, 1, 1])"
      ]
     },
     "execution_count": 12,
     "metadata": {},
     "output_type": "execute_result"
    }
   ],
   "source": [
    "lof = LocalOutlierFactor(n_neighbors=30)\n",
    "lof.fit_predict(data)"
   ]
  },
  {
   "cell_type": "code",
   "execution_count": 13,
   "id": "1040b824-206a-421c-b3e0-acb23b4ce271",
   "metadata": {},
   "outputs": [],
   "source": [
    "lof_scores = lof.negative_outlier_factor_\n",
    "scores = np.sort(-lof_scores[:])"
   ]
  },
  {
   "cell_type": "code",
   "execution_count": 14,
   "id": "3f9c9a3e-1bd2-4d24-8161-a18bc809a763",
   "metadata": {},
   "outputs": [
    {
     "data": {
      "image/png": "[encoded data removed]",
      "text/plain": [
       "<Figure size 640x480 with 1 Axes>"
      ]
     },
     "metadata": {},
     "output_type": "display_data"
    }
   ],
   "source": [
    "sns.lineplot(x=np.arange(len(scores)), y=scores);\n",
    "sns.scatterplot(x=[17000], y=scores[17000], color=\"red\");"
   ]
  },
  {
   "cell_type": "code",
   "execution_count": 15,
   "id": "2cbc2f5d-ae4f-40cc-a272-2c93ad06c33f",
   "metadata": {},
   "outputs": [],
   "source": [
    "esik_deger = -scores[17000]\n",
    "aykiri_degerler = lof_scores > esik_deger\n",
    "data = data[aykiri_degerler]"
   ]
  },
  {
   "cell_type": "code",
   "execution_count": 16,
   "id": "18606179-7122-4727-9744-e2d2c15d08fe",
   "metadata": {},
   "outputs": [],
   "source": [
    "data = data[data[\"price\"]<23500]"
   ]
  },
  {
   "cell_type": "code",
   "execution_count": 17,
   "id": "1e7f37d7-46ca-4c48-94e5-989a9d23b182",
   "metadata": {
    "scrolled": true
   },
   "outputs": [
    {
     "data": {
      "text/html": [
       "<div>\n",
       "<style scoped>\n",
       "    .dataframe tbody tr th:only-of-type {\n",
       "        vertical-align: middle;\n",
       "    }\n",
       "\n",
       "    .dataframe tbody tr th {\n",
       "        vertical-align: top;\n",
       "    }\n",
       "\n",
       "    .dataframe thead th {\n",
       "        text-align: right;\n",
       "    }\n",
       "</style>\n",
       "<table border=\"1\" class=\"dataframe\">\n",
       "  <thead>\n",
       "    <tr style=\"text-align: right;\">\n",
       "      <th></th>\n",
       "      <th>mean</th>\n",
       "      <th>count</th>\n",
       "    </tr>\n",
       "    <tr>\n",
       "      <th>year</th>\n",
       "      <th></th>\n",
       "      <th></th>\n",
       "    </tr>\n",
       "  </thead>\n",
       "  <tbody>\n",
       "    <tr>\n",
       "      <th>2002</th>\n",
       "      <td>1545.000000</td>\n",
       "      <td>2</td>\n",
       "    </tr>\n",
       "    <tr>\n",
       "      <th>2003</th>\n",
       "      <td>1695.000000</td>\n",
       "      <td>1</td>\n",
       "    </tr>\n",
       "    <tr>\n",
       "      <th>2004</th>\n",
       "      <td>1647.000000</td>\n",
       "      <td>2</td>\n",
       "    </tr>\n",
       "    <tr>\n",
       "      <th>2005</th>\n",
       "      <td>1582.111111</td>\n",
       "      <td>9</td>\n",
       "    </tr>\n",
       "    <tr>\n",
       "      <th>2006</th>\n",
       "      <td>1951.800000</td>\n",
       "      <td>5</td>\n",
       "    </tr>\n",
       "    <tr>\n",
       "      <th>2007</th>\n",
       "      <td>2710.294118</td>\n",
       "      <td>17</td>\n",
       "    </tr>\n",
       "    <tr>\n",
       "      <th>2008</th>\n",
       "      <td>2676.653846</td>\n",
       "      <td>26</td>\n",
       "    </tr>\n",
       "    <tr>\n",
       "      <th>2009</th>\n",
       "      <td>3481.113636</td>\n",
       "      <td>44</td>\n",
       "    </tr>\n",
       "    <tr>\n",
       "      <th>2010</th>\n",
       "      <td>4199.960000</td>\n",
       "      <td>50</td>\n",
       "    </tr>\n",
       "    <tr>\n",
       "      <th>2011</th>\n",
       "      <td>5252.955224</td>\n",
       "      <td>67</td>\n",
       "    </tr>\n",
       "    <tr>\n",
       "      <th>2012</th>\n",
       "      <td>5929.290323</td>\n",
       "      <td>93</td>\n",
       "    </tr>\n",
       "    <tr>\n",
       "      <th>2013</th>\n",
       "      <td>6869.443137</td>\n",
       "      <td>510</td>\n",
       "    </tr>\n",
       "    <tr>\n",
       "      <th>2014</th>\n",
       "      <td>7743.513812</td>\n",
       "      <td>724</td>\n",
       "    </tr>\n",
       "    <tr>\n",
       "      <th>2015</th>\n",
       "      <td>8853.322810</td>\n",
       "      <td>1267</td>\n",
       "    </tr>\n",
       "    <tr>\n",
       "      <th>2016</th>\n",
       "      <td>10522.471467</td>\n",
       "      <td>2208</td>\n",
       "    </tr>\n",
       "    <tr>\n",
       "      <th>2017</th>\n",
       "      <td>11785.414071</td>\n",
       "      <td>4719</td>\n",
       "    </tr>\n",
       "    <tr>\n",
       "      <th>2018</th>\n",
       "      <td>12929.912276</td>\n",
       "      <td>3910</td>\n",
       "    </tr>\n",
       "    <tr>\n",
       "      <th>2019</th>\n",
       "      <td>16292.287440</td>\n",
       "      <td>2898</td>\n",
       "    </tr>\n",
       "    <tr>\n",
       "      <th>2020</th>\n",
       "      <td>18766.400000</td>\n",
       "      <td>210</td>\n",
       "    </tr>\n",
       "    <tr>\n",
       "      <th>2060</th>\n",
       "      <td>6495.000000</td>\n",
       "      <td>1</td>\n",
       "    </tr>\n",
       "  </tbody>\n",
       "</table>\n",
       "</div>"
      ],
      "text/plain": [
       "              mean  count\n",
       "year                     \n",
       "2002   1545.000000      2\n",
       "2003   1695.000000      1\n",
       "2004   1647.000000      2\n",
       "2005   1582.111111      9\n",
       "2006   1951.800000      5\n",
       "2007   2710.294118     17\n",
       "2008   2676.653846     26\n",
       "2009   3481.113636     44\n",
       "2010   4199.960000     50\n",
       "2011   5252.955224     67\n",
       "2012   5929.290323     93\n",
       "2013   6869.443137    510\n",
       "2014   7743.513812    724\n",
       "2015   8853.322810   1267\n",
       "2016  10522.471467   2208\n",
       "2017  11785.414071   4719\n",
       "2018  12929.912276   3910\n",
       "2019  16292.287440   2898\n",
       "2020  18766.400000    210\n",
       "2060   6495.000000      1"
      ]
     },
     "execution_count": 17,
     "metadata": {},
     "output_type": "execute_result"
    }
   ],
   "source": [
    "data.groupby(\"year\")[\"price\"].agg([\"mean\", \"count\"])"
   ]
  },
  {
   "cell_type": "code",
   "execution_count": 18,
   "id": "ad3d1f2a-0f98-4f4c-94e7-c3c2bef58032",
   "metadata": {},
   "outputs": [],
   "source": [
    "data = data[data[\"year\"] != 2060]"
   ]
  },
  {
   "cell_type": "code",
   "execution_count": 19,
   "id": "f34f2492-58a3-40c6-b762-4eee33187ee4",
   "metadata": {},
   "outputs": [
    {
     "data": {
      "image/png": "[encoded data removed]",
      "text/plain": [
       "<Figure size 1000x500 with 2 Axes>"
      ]
     },
     "metadata": {},
     "output_type": "display_data"
    }
   ],
   "source": [
    "plt.figure(figsize=(10, 5))\n",
    "plt.subplot(1, 2, 1)\n",
    "sns.boxplot(data=data, x=\"price\")\n",
    "plt.subplot(1, 2, 2)\n",
    "sns.distplot(data.price);\n",
    "plt.tight_layout()\n",
    "plt.show()"
   ]
  },
  {
   "cell_type": "code",
   "execution_count": 20,
   "id": "c599c860-e101-45d5-be55-93209e9cbab1",
   "metadata": {},
   "outputs": [
    {
     "data": {
      "text/plain": [
       "((16762, 5), (16762, 1))"
      ]
     },
     "execution_count": 20,
     "metadata": {},
     "output_type": "execute_result"
    }
   ],
   "source": [
    "X = data.drop([\"price\"], axis=1)\n",
    "y = data[[\"price\"]]\n",
    "X.shape, y.shape"
   ]
  },
  {
   "cell_type": "code",
   "execution_count": 21,
   "id": "d384d823-9404-41cf-9ec0-55b0fb3496c9",
   "metadata": {},
   "outputs": [],
   "source": [
    "X_train, X_test, y_train, y_test = train_test_split(X, y, test_size=.25, random_state=24)"
   ]
  },
  {
   "cell_type": "code",
   "execution_count": 22,
   "id": "3c774fb5-2495-41a7-9670-36941ff25b6c",
   "metadata": {},
   "outputs": [],
   "source": [
    "scaler = MinMaxScaler()\n",
    "X_train = scaler.fit_transform(X_train)\n",
    "X_test = scaler.fit_transform(X_test)"
   ]
  },
  {
   "cell_type": "code",
   "execution_count": 23,
   "id": "4ac1a7a6-20d1-417b-a51c-ed1db5d9e28a",
   "metadata": {},
   "outputs": [],
   "source": [
    "earlyStop = EarlyStopping(monitor=\"val_loss\", mode=\"min\", patience=25, verbose=1)"
   ]
  },
  {
   "cell_type": "code",
   "execution_count": 24,
   "id": "0062d0d3-24ae-49e3-84ec-63b21d657b31",
   "metadata": {},
   "outputs": [],
   "source": [
    "model = Sequential()\n",
    "\n",
    "model.add(Dense(units=10, activation=\"relu\"))\n",
    "model.add(Dropout(.3))\n",
    "model.add(Dense(units=10, activation=\"relu\"))\n",
    "model.add(Dropout(.3))\n",
    "model.add(Dense(units=10, activation=\"relu\"))\n",
    "model.add(Dropout(.3))\n",
    "\n",
    "model.add(Dense(1))\n",
    "\n",
    "model.compile(optimizer=\"adam\", loss=\"mse\")"
   ]
  },
  {
   "cell_type": "code",
   "execution_count": 25,
   "id": "da9cfb9c-917c-461c-b383-55e5414dd42f",
   "metadata": {
    "scrolled": true
   },
   "outputs": [
    {
     "name": "stdout",
     "output_type": "stream",
     "text": [
      "Epoch 1/300\n",
      "51/51 [==============================] - 1s 4ms/step - loss: 161012112.0000 - val_loss: 161851744.0000\n",
      "Epoch 2/300\n",
      "51/51 [==============================] - 0s 2ms/step - loss: 160991600.0000 - val_loss: 161813616.0000\n",
      "Epoch 3/300\n",
      "51/51 [==============================] - 0s 2ms/step - loss: 160903536.0000 - val_loss: 161642016.0000\n",
      "Epoch 4/300\n",
      "51/51 [==============================] - 0s 2ms/step - loss: 160596720.0000 - val_loss: 161106048.0000\n",
      "Epoch 5/300\n",
      "51/51 [==============================] - 0s 2ms/step - loss: 159812288.0000 - val_loss: 159811312.0000\n",
      "Epoch 6/300\n",
      "51/51 [==============================] - 0s 2ms/step - loss: 158109072.0000 - val_loss: 157024848.0000\n",
      "Epoch 7/300\n",
      "51/51 [==============================] - 0s 2ms/step - loss: 154745488.0000 - val_loss: 151882160.0000\n",
      "Epoch 8/300\n",
      "51/51 [==============================] - 0s 2ms/step - loss: 148963264.0000 - val_loss: 143573104.0000\n",
      "Epoch 9/300\n",
      "51/51 [==============================] - 0s 2ms/step - loss: 140132048.0000 - val_loss: 131501136.0000\n",
      "Epoch 10/300\n",
      "51/51 [==============================] - 0s 2ms/step - loss: 128153912.0000 - val_loss: 115446368.0000\n",
      "Epoch 11/300\n",
      "51/51 [==============================] - 0s 2ms/step - loss: 112576832.0000 - val_loss: 95652632.0000\n",
      "Epoch 12/300\n",
      "51/51 [==============================] - 0s 2ms/step - loss: 94435576.0000 - val_loss: 73948928.0000\n",
      "Epoch 13/300\n",
      "51/51 [==============================] - 0s 2ms/step - loss: 76059776.0000 - val_loss: 53324276.0000\n",
      "Epoch 14/300\n",
      "51/51 [==============================] - 0s 2ms/step - loss: 60592892.0000 - val_loss: 36574776.0000\n",
      "Epoch 15/300\n",
      "51/51 [==============================] - 0s 2ms/step - loss: 49541072.0000 - val_loss: 25246464.0000\n",
      "Epoch 16/300\n",
      "51/51 [==============================] - 0s 2ms/step - loss: 41959932.0000 - val_loss: 19171564.0000\n",
      "Epoch 17/300\n",
      "51/51 [==============================] - 0s 2ms/step - loss: 38625716.0000 - val_loss: 16490965.0000\n",
      "Epoch 18/300\n",
      "51/51 [==============================] - 0s 2ms/step - loss: 38329672.0000 - val_loss: 15483678.0000\n",
      "Epoch 19/300\n",
      "51/51 [==============================] - 0s 2ms/step - loss: 37291128.0000 - val_loss: 14990476.0000\n",
      "Epoch 20/300\n",
      "51/51 [==============================] - 0s 2ms/step - loss: 37289740.0000 - val_loss: 14736355.0000\n",
      "Epoch 21/300\n",
      "51/51 [==============================] - 0s 2ms/step - loss: 37242932.0000 - val_loss: 14537844.0000\n",
      "Epoch 22/300\n",
      "51/51 [==============================] - 0s 2ms/step - loss: 36978912.0000 - val_loss: 14387346.0000\n",
      "Epoch 23/300\n",
      "51/51 [==============================] - 0s 2ms/step - loss: 37430872.0000 - val_loss: 14240031.0000\n",
      "Epoch 24/300\n",
      "51/51 [==============================] - 0s 2ms/step - loss: 36358424.0000 - val_loss: 14085781.0000\n",
      "Epoch 25/300\n",
      "51/51 [==============================] - 0s 2ms/step - loss: 36357908.0000 - val_loss: 13936195.0000\n",
      "Epoch 26/300\n",
      "51/51 [==============================] - 0s 2ms/step - loss: 36305968.0000 - val_loss: 13795167.0000\n",
      "Epoch 27/300\n",
      "51/51 [==============================] - 0s 2ms/step - loss: 35828092.0000 - val_loss: 13662295.0000\n",
      "Epoch 28/300\n",
      "51/51 [==============================] - 0s 2ms/step - loss: 35140428.0000 - val_loss: 13524675.0000\n",
      "Epoch 29/300\n",
      "51/51 [==============================] - 0s 2ms/step - loss: 35581792.0000 - val_loss: 13401026.0000\n",
      "Epoch 30/300\n",
      "51/51 [==============================] - 0s 2ms/step - loss: 35041244.0000 - val_loss: 13277860.0000\n",
      "Epoch 31/300\n",
      "51/51 [==============================] - 0s 2ms/step - loss: 35354964.0000 - val_loss: 13146016.0000\n",
      "Epoch 32/300\n",
      "51/51 [==============================] - 0s 2ms/step - loss: 35464104.0000 - val_loss: 13028895.0000\n",
      "Epoch 33/300\n",
      "51/51 [==============================] - 0s 2ms/step - loss: 35292040.0000 - val_loss: 12898081.0000\n",
      "Epoch 34/300\n",
      "51/51 [==============================] - 0s 2ms/step - loss: 35198940.0000 - val_loss: 12770780.0000\n",
      "Epoch 35/300\n",
      "51/51 [==============================] - 0s 2ms/step - loss: 34694920.0000 - val_loss: 12647358.0000\n",
      "Epoch 36/300\n",
      "51/51 [==============================] - 0s 2ms/step - loss: 34891752.0000 - val_loss: 12526746.0000\n",
      "Epoch 37/300\n",
      "51/51 [==============================] - 0s 2ms/step - loss: 34723756.0000 - val_loss: 12423094.0000\n",
      "Epoch 38/300\n",
      "51/51 [==============================] - 0s 2ms/step - loss: 34007484.0000 - val_loss: 12345448.0000\n",
      "Epoch 39/300\n",
      "51/51 [==============================] - 0s 2ms/step - loss: 33974304.0000 - val_loss: 12212710.0000\n",
      "Epoch 40/300\n",
      "51/51 [==============================] - 0s 2ms/step - loss: 33919028.0000 - val_loss: 12095554.0000\n",
      "Epoch 41/300\n",
      "51/51 [==============================] - 0s 2ms/step - loss: 34072652.0000 - val_loss: 11982920.0000\n",
      "Epoch 42/300\n",
      "51/51 [==============================] - 0s 2ms/step - loss: 33332894.0000 - val_loss: 11904520.0000\n",
      "Epoch 43/300\n",
      "51/51 [==============================] - 0s 2ms/step - loss: 33752872.0000 - val_loss: 11817384.0000\n",
      "Epoch 44/300\n",
      "51/51 [==============================] - 0s 2ms/step - loss: 33502982.0000 - val_loss: 11684747.0000\n",
      "Epoch 45/300\n",
      "51/51 [==============================] - 0s 2ms/step - loss: 33718996.0000 - val_loss: 11544854.0000\n",
      "Epoch 46/300\n",
      "51/51 [==============================] - 0s 2ms/step - loss: 32966584.0000 - val_loss: 11502744.0000\n",
      "Epoch 47/300\n",
      "51/51 [==============================] - 0s 2ms/step - loss: 32781558.0000 - val_loss: 11409136.0000\n",
      "Epoch 48/300\n",
      "51/51 [==============================] - 0s 2ms/step - loss: 32569206.0000 - val_loss: 11346464.0000\n",
      "Epoch 49/300\n",
      "51/51 [==============================] - 0s 2ms/step - loss: 32587452.0000 - val_loss: 11342551.0000\n",
      "Epoch 50/300\n",
      "51/51 [==============================] - 0s 2ms/step - loss: 32258474.0000 - val_loss: 11232910.0000\n",
      "Epoch 51/300\n",
      "51/51 [==============================] - 0s 2ms/step - loss: 32840814.0000 - val_loss: 11104344.0000\n",
      "Epoch 52/300\n",
      "51/51 [==============================] - 0s 2ms/step - loss: 32042826.0000 - val_loss: 11044311.0000\n",
      "Epoch 53/300\n",
      "51/51 [==============================] - 0s 2ms/step - loss: 32314776.0000 - val_loss: 10950508.0000\n",
      "Epoch 54/300\n",
      "51/51 [==============================] - 0s 2ms/step - loss: 32327956.0000 - val_loss: 10904301.0000\n",
      "Epoch 55/300\n",
      "51/51 [==============================] - 0s 2ms/step - loss: 31981334.0000 - val_loss: 10840255.0000\n",
      "Epoch 56/300\n",
      "51/51 [==============================] - 0s 2ms/step - loss: 32604088.0000 - val_loss: 10635069.0000\n",
      "Epoch 57/300\n",
      "51/51 [==============================] - 0s 2ms/step - loss: 31735446.0000 - val_loss: 10691138.0000\n",
      "Epoch 58/300\n",
      "51/51 [==============================] - 0s 2ms/step - loss: 32122328.0000 - val_loss: 10492079.0000\n",
      "Epoch 59/300\n",
      "51/51 [==============================] - 0s 2ms/step - loss: 32318726.0000 - val_loss: 10624183.0000\n",
      "Epoch 60/300\n",
      "51/51 [==============================] - 0s 2ms/step - loss: 31587504.0000 - val_loss: 10421489.0000\n",
      "Epoch 61/300\n",
      "51/51 [==============================] - 0s 2ms/step - loss: 31178714.0000 - val_loss: 10405200.0000\n",
      "Epoch 62/300\n",
      "51/51 [==============================] - 0s 2ms/step - loss: 31854770.0000 - val_loss: 10301411.0000\n",
      "Epoch 63/300\n",
      "51/51 [==============================] - 0s 2ms/step - loss: 31129818.0000 - val_loss: 10267701.0000\n",
      "Epoch 64/300\n",
      "51/51 [==============================] - 0s 2ms/step - loss: 30804496.0000 - val_loss: 10342605.0000\n",
      "Epoch 65/300\n",
      "51/51 [==============================] - 0s 2ms/step - loss: 30839226.0000 - val_loss: 10199102.0000\n",
      "Epoch 66/300\n",
      "51/51 [==============================] - 0s 2ms/step - loss: 30574088.0000 - val_loss: 10356283.0000\n",
      "Epoch 67/300\n",
      "51/51 [==============================] - 0s 2ms/step - loss: 30936526.0000 - val_loss: 10211558.0000\n",
      "Epoch 68/300\n",
      "51/51 [==============================] - 0s 2ms/step - loss: 31186136.0000 - val_loss: 10308646.0000\n",
      "Epoch 69/300\n",
      "51/51 [==============================] - 0s 2ms/step - loss: 30742150.0000 - val_loss: 10013287.0000\n",
      "Epoch 70/300\n",
      "51/51 [==============================] - 0s 2ms/step - loss: 30678610.0000 - val_loss: 10304738.0000\n",
      "Epoch 71/300\n",
      "51/51 [==============================] - 0s 2ms/step - loss: 30835288.0000 - val_loss: 10042615.0000\n",
      "Epoch 72/300\n",
      "51/51 [==============================] - 0s 2ms/step - loss: 30313552.0000 - val_loss: 10316293.0000\n",
      "Epoch 73/300\n",
      "51/51 [==============================] - 0s 2ms/step - loss: 30719254.0000 - val_loss: 10149707.0000\n",
      "Epoch 74/300\n",
      "51/51 [==============================] - 0s 2ms/step - loss: 30715962.0000 - val_loss: 10090729.0000\n",
      "Epoch 75/300\n",
      "51/51 [==============================] - 0s 2ms/step - loss: 30410386.0000 - val_loss: 10217235.0000\n",
      "Epoch 76/300\n",
      "51/51 [==============================] - 0s 2ms/step - loss: 30334326.0000 - val_loss: 10217994.0000\n",
      "Epoch 77/300\n",
      "51/51 [==============================] - 0s 2ms/step - loss: 30360322.0000 - val_loss: 10218408.0000\n",
      "Epoch 78/300\n",
      "51/51 [==============================] - 0s 2ms/step - loss: 29780924.0000 - val_loss: 10300735.0000\n",
      "Epoch 79/300\n",
      "51/51 [==============================] - 0s 2ms/step - loss: 29638844.0000 - val_loss: 10513908.0000\n",
      "Epoch 80/300\n",
      "51/51 [==============================] - 0s 2ms/step - loss: 29799700.0000 - val_loss: 10242048.0000\n",
      "Epoch 81/300\n",
      "51/51 [==============================] - 0s 2ms/step - loss: 29366316.0000 - val_loss: 10649454.0000\n",
      "Epoch 82/300\n",
      "51/51 [==============================] - 0s 2ms/step - loss: 29293512.0000 - val_loss: 10403109.0000\n",
      "Epoch 83/300\n",
      "51/51 [==============================] - 0s 2ms/step - loss: 29123170.0000 - val_loss: 10813169.0000\n",
      "Epoch 84/300\n",
      "51/51 [==============================] - 0s 2ms/step - loss: 29569386.0000 - val_loss: 10581287.0000\n",
      "Epoch 85/300\n",
      "51/51 [==============================] - 0s 2ms/step - loss: 29398556.0000 - val_loss: 10977310.0000\n",
      "Epoch 86/300\n",
      "51/51 [==============================] - 0s 2ms/step - loss: 29071240.0000 - val_loss: 10579574.0000\n",
      "Epoch 87/300\n",
      "51/51 [==============================] - 0s 2ms/step - loss: 28685466.0000 - val_loss: 10613413.0000\n",
      "Epoch 88/300\n",
      "51/51 [==============================] - 0s 2ms/step - loss: 29653250.0000 - val_loss: 10754100.0000\n",
      "Epoch 89/300\n",
      "51/51 [==============================] - 0s 2ms/step - loss: 28839500.0000 - val_loss: 10976708.0000\n",
      "Epoch 90/300\n",
      "51/51 [==============================] - 0s 2ms/step - loss: 28942646.0000 - val_loss: 11187940.0000\n",
      "Epoch 91/300\n",
      "51/51 [==============================] - 0s 2ms/step - loss: 28447508.0000 - val_loss: 11178360.0000\n",
      "Epoch 92/300\n",
      "51/51 [==============================] - 0s 2ms/step - loss: 29058058.0000 - val_loss: 10904631.0000\n",
      "Epoch 93/300\n",
      "51/51 [==============================] - 0s 2ms/step - loss: 29012926.0000 - val_loss: 11371339.0000\n",
      "Epoch 94/300\n",
      "51/51 [==============================] - 0s 2ms/step - loss: 28230910.0000 - val_loss: 11666090.0000\n",
      "Epoch 94: early stopping\n"
     ]
    },
    {
     "data": {
      "text/plain": [
       "<keras.src.callbacks.History at 0x1ad00248290>"
      ]
     },
     "execution_count": 25,
     "metadata": {},
     "output_type": "execute_result"
    }
   ],
   "source": [
    "model.fit(x=X_train, y=y_train, batch_size=250, epochs=300, validation_data=(X_test, y_test), callbacks=[earlyStop])"
   ]
  },
  {
   "cell_type": "code",
   "execution_count": 26,
   "id": "6c6c1b3d-e170-4630-8a28-882ce8010915",
   "metadata": {},
   "outputs": [
    {
     "data": {
      "image/png": "[encoded data removed]",
      "text/plain": [
       "<Figure size 640x480 with 1 Axes>"
      ]
     },
     "metadata": {},
     "output_type": "display_data"
    }
   ],
   "source": [
    "loss = pd.DataFrame(model.history.history)[[\"loss\",\"val_loss\"]]\n",
    "loss.plot();"
   ]
  },
  {
   "cell_type": "code",
   "execution_count": 27,
   "id": "35da9164-eab4-4a5b-a40c-b3e821a8fb4e",
   "metadata": {},
   "outputs": [
    {
     "name": "stdout",
     "output_type": "stream",
     "text": [
      "393/393 [==============================] - 0s 908us/step - loss: 10002973.0000\n"
     ]
    },
    {
     "data": {
      "text/plain": [
       "10002973.0"
      ]
     },
     "execution_count": 27,
     "metadata": {},
     "output_type": "execute_result"
    }
   ],
   "source": [
    "model.evaluate(X_train, y_train)"
   ]
  },
  {
   "cell_type": "code",
   "execution_count": 28,
   "id": "f59c989e-4f3f-4be4-95d7-43406b7a137a",
   "metadata": {},
   "outputs": [
    {
     "name": "stdout",
     "output_type": "stream",
     "text": [
      "131/131 [==============================] - 0s 878us/step - loss: 11666088.0000\n"
     ]
    },
    {
     "data": {
      "text/plain": [
       "11666088.0"
      ]
     },
     "execution_count": 28,
     "metadata": {},
     "output_type": "execute_result"
    }
   ],
   "source": [
    "model.evaluate(X_test, y_test)"
   ]
  },
  {
   "cell_type": "code",
   "execution_count": 29,
   "id": "24590059-ca31-43b8-a840-0f7c62b9d846",
   "metadata": {},
   "outputs": [
    {
     "name": "stdout",
     "output_type": "stream",
     "text": [
      "131/131 [==============================] - 0s 812us/step\n"
     ]
    }
   ],
   "source": [
    "y_pred = model.predict(X_test)"
   ]
  },
  {
   "cell_type": "code",
   "execution_count": 30,
   "id": "90edba26-bd51-4c1d-86d3-f68258a2dc24",
   "metadata": {},
   "outputs": [
    {
     "data": {
      "text/plain": [
       "2736.4937799772765"
      ]
     },
     "execution_count": 30,
     "metadata": {},
     "output_type": "execute_result"
    }
   ],
   "source": [
    "mean_absolute_error(y_test, y_pred)"
   ]
  },
  {
   "cell_type": "code",
   "execution_count": null,
   "id": "3c34f9b5-3aa7-4cfa-a815-c1c779de9e07",
   "metadata": {},
   "outputs": [],
   "source": []
  }
 ],
 "metadata": {
  "kernelspec": {
   "display_name": "Python 3 (ipykernel)",
   "language": "python",
   "name": "python3"
  },
  "language_info": {
   "codemirror_mode": {
    "name": "ipython",
    "version": 3
   },
   "file_extension": ".py",
   "mimetype": "text/x-python",
   "name": "python",
   "nbconvert_exporter": "python",
   "pygments_lexer": "ipython3",
   "version": "3.11.6"
  }
 },
 "nbformat": 4,
 "nbformat_minor": 5
}
