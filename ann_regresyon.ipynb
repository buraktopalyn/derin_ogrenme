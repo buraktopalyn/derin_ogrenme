{
 "cells": [
  {
   "cell_type": "code",
   "execution_count": 1,
   "id": "0e8c8e90-65bc-4263-9306-c569557eefa8",
   "metadata": {},
   "outputs": [],
   "source": [
    "import numpy as np\n",
    "import pandas as pd\n",
    "import matplotlib.pyplot as plt\n",
    "import seaborn as sns\n",
    "from sklearn.model_selection import train_test_split\n",
    "from sklearn.preprocessing import MinMaxScaler\n",
    "from sklearn.metrics import r2_score, mean_squared_error, mean_absolute_error\n",
    "from sklearn.neighbors import LocalOutlierFactor\n",
    "from tensorflow.keras.models import Sequential\n",
    "from tensorflow.keras.layers import Dense, Activation, Dropout\n",
    "from tensorflow.keras.callbacks import EarlyStopping\n",
    "import tensorflow as tf\n",
    "\n",
    "import warnings\n",
    "warnings.filterwarnings(\"ignore\")"
   ]
  },
  {
   "cell_type": "code",
   "execution_count": 2,
   "id": "90cfeb84-5697-45c3-bef0-cb048604a05d",
   "metadata": {},
   "outputs": [],
   "source": [
    "ford = pd.read_csv(\"ford.csv\")\n",
    "data = ford.copy()"
   ]
  },
  {
   "cell_type": "code",
   "execution_count": 3,
   "id": "f9e9a28c-2f51-4d45-b322-21c055d34077",
   "metadata": {},
   "outputs": [
    {
     "data": {
      "text/html": [
       "<div>\n",
       "<style scoped>\n",
       "    .dataframe tbody tr th:only-of-type {\n",
       "        vertical-align: middle;\n",
       "    }\n",
       "\n",
       "    .dataframe tbody tr th {\n",
       "        vertical-align: top;\n",
       "    }\n",
       "\n",
       "    .dataframe thead th {\n",
       "        text-align: right;\n",
       "    }\n",
       "</style>\n",
       "<table border=\"1\" class=\"dataframe\">\n",
       "  <thead>\n",
       "    <tr style=\"text-align: right;\">\n",
       "      <th></th>\n",
       "      <th>model</th>\n",
       "      <th>year</th>\n",
       "      <th>price</th>\n",
       "      <th>transmission</th>\n",
       "      <th>mileage</th>\n",
       "      <th>fuelType</th>\n",
       "      <th>tax</th>\n",
       "      <th>mpg</th>\n",
       "      <th>engineSize</th>\n",
       "    </tr>\n",
       "  </thead>\n",
       "  <tbody>\n",
       "    <tr>\n",
       "      <th>0</th>\n",
       "      <td>Fiesta</td>\n",
       "      <td>2017</td>\n",
       "      <td>12000</td>\n",
       "      <td>Automatic</td>\n",
       "      <td>15944</td>\n",
       "      <td>Petrol</td>\n",
       "      <td>150</td>\n",
       "      <td>57.7</td>\n",
       "      <td>1.0</td>\n",
       "    </tr>\n",
       "    <tr>\n",
       "      <th>1</th>\n",
       "      <td>Focus</td>\n",
       "      <td>2018</td>\n",
       "      <td>14000</td>\n",
       "      <td>Manual</td>\n",
       "      <td>9083</td>\n",
       "      <td>Petrol</td>\n",
       "      <td>150</td>\n",
       "      <td>57.7</td>\n",
       "      <td>1.0</td>\n",
       "    </tr>\n",
       "    <tr>\n",
       "      <th>2</th>\n",
       "      <td>Focus</td>\n",
       "      <td>2017</td>\n",
       "      <td>13000</td>\n",
       "      <td>Manual</td>\n",
       "      <td>12456</td>\n",
       "      <td>Petrol</td>\n",
       "      <td>150</td>\n",
       "      <td>57.7</td>\n",
       "      <td>1.0</td>\n",
       "    </tr>\n",
       "    <tr>\n",
       "      <th>3</th>\n",
       "      <td>Fiesta</td>\n",
       "      <td>2019</td>\n",
       "      <td>17500</td>\n",
       "      <td>Manual</td>\n",
       "      <td>10460</td>\n",
       "      <td>Petrol</td>\n",
       "      <td>145</td>\n",
       "      <td>40.3</td>\n",
       "      <td>1.5</td>\n",
       "    </tr>\n",
       "    <tr>\n",
       "      <th>4</th>\n",
       "      <td>Fiesta</td>\n",
       "      <td>2019</td>\n",
       "      <td>16500</td>\n",
       "      <td>Automatic</td>\n",
       "      <td>1482</td>\n",
       "      <td>Petrol</td>\n",
       "      <td>145</td>\n",
       "      <td>48.7</td>\n",
       "      <td>1.0</td>\n",
       "    </tr>\n",
       "  </tbody>\n",
       "</table>\n",
       "</div>"
      ],
      "text/plain": [
       "     model  year  price transmission  mileage fuelType  tax   mpg  engineSize\n",
       "0   Fiesta  2017  12000    Automatic    15944   Petrol  150  57.7         1.0\n",
       "1    Focus  2018  14000       Manual     9083   Petrol  150  57.7         1.0\n",
       "2    Focus  2017  13000       Manual    12456   Petrol  150  57.7         1.0\n",
       "3   Fiesta  2019  17500       Manual    10460   Petrol  145  40.3         1.5\n",
       "4   Fiesta  2019  16500    Automatic     1482   Petrol  145  48.7         1.0"
      ]
     },
     "execution_count": 3,
     "metadata": {},
     "output_type": "execute_result"
    }
   ],
   "source": [
    "data.head()"
   ]
  },
  {
   "cell_type": "code",
   "execution_count": 4,
   "id": "a795b0ad-8b43-4674-81a1-23b45c34f91c",
   "metadata": {},
   "outputs": [
    {
     "name": "stdout",
     "output_type": "stream",
     "text": [
      "<class 'pandas.core.frame.DataFrame'>\n",
      "RangeIndex: 17966 entries, 0 to 17965\n",
      "Data columns (total 9 columns):\n",
      " #   Column        Non-Null Count  Dtype  \n",
      "---  ------        --------------  -----  \n",
      " 0   model         17966 non-null  object \n",
      " 1   year          17966 non-null  int64  \n",
      " 2   price         17966 non-null  int64  \n",
      " 3   transmission  17966 non-null  object \n",
      " 4   mileage       17966 non-null  int64  \n",
      " 5   fuelType      17966 non-null  object \n",
      " 6   tax           17966 non-null  int64  \n",
      " 7   mpg           17966 non-null  float64\n",
      " 8   engineSize    17966 non-null  float64\n",
      "dtypes: float64(2), int64(4), object(3)\n",
      "memory usage: 1.2+ MB\n"
     ]
    }
   ],
   "source": [
    "data.info()"
   ]
  },
  {
   "cell_type": "code",
   "execution_count": 5,
   "id": "44709c88-19b5-49ec-8301-ac939c1e3b97",
   "metadata": {},
   "outputs": [
    {
     "data": {
      "text/html": [
       "<div>\n",
       "<style scoped>\n",
       "    .dataframe tbody tr th:only-of-type {\n",
       "        vertical-align: middle;\n",
       "    }\n",
       "\n",
       "    .dataframe tbody tr th {\n",
       "        vertical-align: top;\n",
       "    }\n",
       "\n",
       "    .dataframe thead th {\n",
       "        text-align: right;\n",
       "    }\n",
       "</style>\n",
       "<table border=\"1\" class=\"dataframe\">\n",
       "  <thead>\n",
       "    <tr style=\"text-align: right;\">\n",
       "      <th></th>\n",
       "      <th>count</th>\n",
       "      <th>mean</th>\n",
       "      <th>std</th>\n",
       "      <th>min</th>\n",
       "      <th>25%</th>\n",
       "      <th>50%</th>\n",
       "      <th>75%</th>\n",
       "      <th>max</th>\n",
       "    </tr>\n",
       "  </thead>\n",
       "  <tbody>\n",
       "    <tr>\n",
       "      <th>year</th>\n",
       "      <td>17966.0</td>\n",
       "      <td>2016.866470</td>\n",
       "      <td>2.050336</td>\n",
       "      <td>1996.0</td>\n",
       "      <td>2016.0</td>\n",
       "      <td>2017.0</td>\n",
       "      <td>2018.0</td>\n",
       "      <td>2060.0</td>\n",
       "    </tr>\n",
       "    <tr>\n",
       "      <th>price</th>\n",
       "      <td>17966.0</td>\n",
       "      <td>12279.534844</td>\n",
       "      <td>4741.343657</td>\n",
       "      <td>495.0</td>\n",
       "      <td>8999.0</td>\n",
       "      <td>11291.0</td>\n",
       "      <td>15299.0</td>\n",
       "      <td>54995.0</td>\n",
       "    </tr>\n",
       "    <tr>\n",
       "      <th>mileage</th>\n",
       "      <td>17966.0</td>\n",
       "      <td>23362.608761</td>\n",
       "      <td>19472.054349</td>\n",
       "      <td>1.0</td>\n",
       "      <td>9987.0</td>\n",
       "      <td>18242.5</td>\n",
       "      <td>31060.0</td>\n",
       "      <td>177644.0</td>\n",
       "    </tr>\n",
       "    <tr>\n",
       "      <th>tax</th>\n",
       "      <td>17966.0</td>\n",
       "      <td>113.329456</td>\n",
       "      <td>62.012456</td>\n",
       "      <td>0.0</td>\n",
       "      <td>30.0</td>\n",
       "      <td>145.0</td>\n",
       "      <td>145.0</td>\n",
       "      <td>580.0</td>\n",
       "    </tr>\n",
       "    <tr>\n",
       "      <th>mpg</th>\n",
       "      <td>17966.0</td>\n",
       "      <td>57.906980</td>\n",
       "      <td>10.125696</td>\n",
       "      <td>20.8</td>\n",
       "      <td>52.3</td>\n",
       "      <td>58.9</td>\n",
       "      <td>65.7</td>\n",
       "      <td>201.8</td>\n",
       "    </tr>\n",
       "    <tr>\n",
       "      <th>engineSize</th>\n",
       "      <td>17966.0</td>\n",
       "      <td>1.350807</td>\n",
       "      <td>0.432367</td>\n",
       "      <td>0.0</td>\n",
       "      <td>1.0</td>\n",
       "      <td>1.2</td>\n",
       "      <td>1.5</td>\n",
       "      <td>5.0</td>\n",
       "    </tr>\n",
       "  </tbody>\n",
       "</table>\n",
       "</div>"
      ],
      "text/plain": [
       "              count          mean           std     min     25%      50%  \\\n",
       "year        17966.0   2016.866470      2.050336  1996.0  2016.0   2017.0   \n",
       "price       17966.0  12279.534844   4741.343657   495.0  8999.0  11291.0   \n",
       "mileage     17966.0  23362.608761  19472.054349     1.0  9987.0  18242.5   \n",
       "tax         17966.0    113.329456     62.012456     0.0    30.0    145.0   \n",
       "mpg         17966.0     57.906980     10.125696    20.8    52.3     58.9   \n",
       "engineSize  17966.0      1.350807      0.432367     0.0     1.0      1.2   \n",
       "\n",
       "                75%       max  \n",
       "year         2018.0    2060.0  \n",
       "price       15299.0   54995.0  \n",
       "mileage     31060.0  177644.0  \n",
       "tax           145.0     580.0  \n",
       "mpg            65.7     201.8  \n",
       "engineSize      1.5       5.0  "
      ]
     },
     "execution_count": 5,
     "metadata": {},
     "output_type": "execute_result"
    }
   ],
   "source": [
    "data.describe().T"
   ]
  },
  {
   "cell_type": "code",
   "execution_count": 6,
   "id": "c12b38a5-5710-4119-a6d1-c89bae431126",
   "metadata": {},
   "outputs": [],
   "source": [
    "data = data.drop([\"model\",\"transmission\",\"fuelType\"], axis=1)"
   ]
  },
  {
   "cell_type": "code",
   "execution_count": 7,
   "id": "dab1b743-6ec3-4eae-a8e7-c23da110552a",
   "metadata": {},
   "outputs": [
    {
     "data": {
      "image/png": "[encoded data removed]",
      "text/plain": [
       "<Figure size 640x480 with 2 Axes>"
      ]
     },
     "metadata": {},
     "output_type": "display_data"
    }
   ],
   "source": [
    "sns.heatmap(data.corr(), annot=True, vmin=-1, vmax=1, cmap=\"twilight_shifted\");"
   ]
  },
  {
   "cell_type": "code",
   "execution_count": 8,
   "id": "4bd6572c-390d-4a38-9d2d-5012f373a51b",
   "metadata": {},
   "outputs": [
    {
     "data": {
      "image/png": "[encoded data removed]",
      "text/plain": [
       "<Figure size 1000x500 with 2 Axes>"
      ]
     },
     "metadata": {},
     "output_type": "display_data"
    }
   ],
   "source": [
    "plt.figure(figsize=(10, 5))\n",
    "plt.subplot(1, 2, 1)\n",
    "sns.boxplot(data=data, x=\"price\")\n",
    "plt.subplot(1, 2, 2)\n",
    "sns.distplot(data.price);\n",
    "plt.tight_layout()\n",
    "plt.show()"
   ]
  },
  {
   "cell_type": "code",
   "execution_count": 9,
   "id": "021e531c-ef58-4c95-81f4-4e30e9529b6a",
   "metadata": {},
   "outputs": [
    {
     "data": {
      "text/plain": [
       "array([1, 1, 1, ..., 1, 1, 1])"
      ]
     },
     "execution_count": 9,
     "metadata": {},
     "output_type": "execute_result"
    }
   ],
   "source": [
    "lof = LocalOutlierFactor(n_neighbors=30)\n",
    "lof.fit_predict(data)"
   ]
  },
  {
   "cell_type": "code",
   "execution_count": 10,
   "id": "1040b824-206a-421c-b3e0-acb23b4ce271",
   "metadata": {},
   "outputs": [],
   "source": [
    "lof_scores = lof.negative_outlier_factor_\n",
    "scores = np.sort(-lof_scores[:])"
   ]
  },
  {
   "cell_type": "code",
   "execution_count": 11,
   "id": "3f9c9a3e-1bd2-4d24-8161-a18bc809a763",
   "metadata": {},
   "outputs": [
    {
     "data": {
      "image/png": "[encoded data removed]",
      "text/plain": [
       "<Figure size 640x480 with 1 Axes>"
      ]
     },
     "metadata": {},
     "output_type": "display_data"
    }
   ],
   "source": [
    "sns.lineplot(x=np.arange(len(scores)), y=scores);\n",
    "sns.scatterplot(x=[17000], y=scores[17000], color=\"red\");"
   ]
  },
  {
   "cell_type": "code",
   "execution_count": 12,
   "id": "2cbc2f5d-ae4f-40cc-a272-2c93ad06c33f",
   "metadata": {},
   "outputs": [],
   "source": [
    "esik_deger = -scores[17000]\n",
    "aykiri_degerler = lof_scores > esik_deger\n",
    "data = data[aykiri_degerler]"
   ]
  },
  {
   "cell_type": "code",
   "execution_count": 13,
   "id": "18606179-7122-4727-9744-e2d2c15d08fe",
   "metadata": {},
   "outputs": [],
   "source": [
    "data = data[data[\"price\"]<23500]"
   ]
  },
  {
   "cell_type": "code",
   "execution_count": 14,
   "id": "1e7f37d7-46ca-4c48-94e5-989a9d23b182",
   "metadata": {
    "scrolled": true
   },
   "outputs": [
    {
     "data": {
      "text/html": [
       "<div>\n",
       "<style scoped>\n",
       "    .dataframe tbody tr th:only-of-type {\n",
       "        vertical-align: middle;\n",
       "    }\n",
       "\n",
       "    .dataframe tbody tr th {\n",
       "        vertical-align: top;\n",
       "    }\n",
       "\n",
       "    .dataframe thead th {\n",
       "        text-align: right;\n",
       "    }\n",
       "</style>\n",
       "<table border=\"1\" class=\"dataframe\">\n",
       "  <thead>\n",
       "    <tr style=\"text-align: right;\">\n",
       "      <th></th>\n",
       "      <th>mean</th>\n",
       "      <th>count</th>\n",
       "    </tr>\n",
       "    <tr>\n",
       "      <th>year</th>\n",
       "      <th></th>\n",
       "      <th></th>\n",
       "    </tr>\n",
       "  </thead>\n",
       "  <tbody>\n",
       "    <tr>\n",
       "      <th>2002</th>\n",
       "      <td>1545.000000</td>\n",
       "      <td>2</td>\n",
       "    </tr>\n",
       "    <tr>\n",
       "      <th>2003</th>\n",
       "      <td>1695.000000</td>\n",
       "      <td>1</td>\n",
       "    </tr>\n",
       "    <tr>\n",
       "      <th>2004</th>\n",
       "      <td>1647.000000</td>\n",
       "      <td>2</td>\n",
       "    </tr>\n",
       "    <tr>\n",
       "      <th>2005</th>\n",
       "      <td>1582.111111</td>\n",
       "      <td>9</td>\n",
       "    </tr>\n",
       "    <tr>\n",
       "      <th>2006</th>\n",
       "      <td>1951.800000</td>\n",
       "      <td>5</td>\n",
       "    </tr>\n",
       "    <tr>\n",
       "      <th>2007</th>\n",
       "      <td>2710.294118</td>\n",
       "      <td>17</td>\n",
       "    </tr>\n",
       "    <tr>\n",
       "      <th>2008</th>\n",
       "      <td>2676.653846</td>\n",
       "      <td>26</td>\n",
       "    </tr>\n",
       "    <tr>\n",
       "      <th>2009</th>\n",
       "      <td>3481.113636</td>\n",
       "      <td>44</td>\n",
       "    </tr>\n",
       "    <tr>\n",
       "      <th>2010</th>\n",
       "      <td>4199.960000</td>\n",
       "      <td>50</td>\n",
       "    </tr>\n",
       "    <tr>\n",
       "      <th>2011</th>\n",
       "      <td>5252.955224</td>\n",
       "      <td>67</td>\n",
       "    </tr>\n",
       "    <tr>\n",
       "      <th>2012</th>\n",
       "      <td>5929.290323</td>\n",
       "      <td>93</td>\n",
       "    </tr>\n",
       "    <tr>\n",
       "      <th>2013</th>\n",
       "      <td>6869.443137</td>\n",
       "      <td>510</td>\n",
       "    </tr>\n",
       "    <tr>\n",
       "      <th>2014</th>\n",
       "      <td>7743.513812</td>\n",
       "      <td>724</td>\n",
       "    </tr>\n",
       "    <tr>\n",
       "      <th>2015</th>\n",
       "      <td>8853.322810</td>\n",
       "      <td>1267</td>\n",
       "    </tr>\n",
       "    <tr>\n",
       "      <th>2016</th>\n",
       "      <td>10522.471467</td>\n",
       "      <td>2208</td>\n",
       "    </tr>\n",
       "    <tr>\n",
       "      <th>2017</th>\n",
       "      <td>11785.414071</td>\n",
       "      <td>4719</td>\n",
       "    </tr>\n",
       "    <tr>\n",
       "      <th>2018</th>\n",
       "      <td>12929.912276</td>\n",
       "      <td>3910</td>\n",
       "    </tr>\n",
       "    <tr>\n",
       "      <th>2019</th>\n",
       "      <td>16292.287440</td>\n",
       "      <td>2898</td>\n",
       "    </tr>\n",
       "    <tr>\n",
       "      <th>2020</th>\n",
       "      <td>18766.400000</td>\n",
       "      <td>210</td>\n",
       "    </tr>\n",
       "    <tr>\n",
       "      <th>2060</th>\n",
       "      <td>6495.000000</td>\n",
       "      <td>1</td>\n",
       "    </tr>\n",
       "  </tbody>\n",
       "</table>\n",
       "</div>"
      ],
      "text/plain": [
       "              mean  count\n",
       "year                     \n",
       "2002   1545.000000      2\n",
       "2003   1695.000000      1\n",
       "2004   1647.000000      2\n",
       "2005   1582.111111      9\n",
       "2006   1951.800000      5\n",
       "2007   2710.294118     17\n",
       "2008   2676.653846     26\n",
       "2009   3481.113636     44\n",
       "2010   4199.960000     50\n",
       "2011   5252.955224     67\n",
       "2012   5929.290323     93\n",
       "2013   6869.443137    510\n",
       "2014   7743.513812    724\n",
       "2015   8853.322810   1267\n",
       "2016  10522.471467   2208\n",
       "2017  11785.414071   4719\n",
       "2018  12929.912276   3910\n",
       "2019  16292.287440   2898\n",
       "2020  18766.400000    210\n",
       "2060   6495.000000      1"
      ]
     },
     "execution_count": 14,
     "metadata": {},
     "output_type": "execute_result"
    }
   ],
   "source": [
    "data.groupby(\"year\")[\"price\"].agg([\"mean\", \"count\"])"
   ]
  },
  {
   "cell_type": "code",
   "execution_count": 15,
   "id": "ad3d1f2a-0f98-4f4c-94e7-c3c2bef58032",
   "metadata": {},
   "outputs": [],
   "source": [
    "data = data[data[\"year\"] != 2060]"
   ]
  },
  {
   "cell_type": "code",
   "execution_count": 16,
   "id": "f34f2492-58a3-40c6-b762-4eee33187ee4",
   "metadata": {},
   "outputs": [
    {
     "data": {
      "image/png": "[encoded data removed]",
      "text/plain": [
       "<Figure size 1000x500 with 2 Axes>"
      ]
     },
     "metadata": {},
     "output_type": "display_data"
    }
   ],
   "source": [
    "plt.figure(figsize=(10, 5))\n",
    "plt.subplot(1, 2, 1)\n",
    "sns.boxplot(data=data, x=\"price\")\n",
    "plt.subplot(1, 2, 2)\n",
    "sns.distplot(data.price);\n",
    "plt.tight_layout()\n",
    "plt.show()"
   ]
  },
  {
   "cell_type": "code",
   "execution_count": 17,
   "id": "c599c860-e101-45d5-be55-93209e9cbab1",
   "metadata": {},
   "outputs": [
    {
     "data": {
      "text/plain": [
       "((16762, 5), (16762, 1))"
      ]
     },
     "execution_count": 17,
     "metadata": {},
     "output_type": "execute_result"
    }
   ],
   "source": [
    "X = data.drop([\"price\"], axis=1)\n",
    "y = data[[\"price\"]]\n",
    "X.shape, y.shape"
   ]
  },
  {
   "cell_type": "code",
   "execution_count": 18,
   "id": "d384d823-9404-41cf-9ec0-55b0fb3496c9",
   "metadata": {},
   "outputs": [],
   "source": [
    "X_train, X_test, y_train, y_test = train_test_split(X, y, test_size=.25, random_state=24)"
   ]
  },
  {
   "cell_type": "code",
   "execution_count": 19,
   "id": "3c774fb5-2495-41a7-9670-36941ff25b6c",
   "metadata": {},
   "outputs": [],
   "source": [
    "scaler = MinMaxScaler()\n",
    "X_train = scaler.fit_transform(X_train)\n",
    "X_test = scaler.fit_transform(X_test)"
   ]
  },
  {
   "cell_type": "code",
   "execution_count": 20,
   "id": "4ac1a7a6-20d1-417b-a51c-ed1db5d9e28a",
   "metadata": {},
   "outputs": [],
   "source": [
    "earlyStop = EarlyStopping(monitor=\"val_loss\", mode=\"min\", patience=25, verbose=1)"
   ]
  },
  {
   "cell_type": "code",
   "execution_count": 38,
   "id": "0062d0d3-24ae-49e3-84ec-63b21d657b31",
   "metadata": {},
   "outputs": [],
   "source": [
    "model = Sequential()\n",
    "\n",
    "model.add(Dense(units=10, activation=\"relu\"))\n",
    "model.add(Dropout(.3))\n",
    "model.add(Dense(units=10, activation=\"relu\"))\n",
    "model.add(Dropout(.3))\n",
    "model.add(Dense(units=10, activation=\"relu\"))\n",
    "model.add(Dropout(.3))\n",
    "\n",
    "model.add(Dense(1))\n",
    "\n",
    "model.compile(optimizer=\"adam\", loss=\"mse\")"
   ]
  },
  {
   "cell_type": "code",
   "execution_count": 39,
   "id": "da9cfb9c-917c-461c-b383-55e5414dd42f",
   "metadata": {
    "scrolled": true
   },
   "outputs": [
    {
     "name": "stdout",
     "output_type": "stream",
     "text": [
      "Epoch 1/300\n",
      "51/51 [==============================] - 1s 3ms/step - loss: 161008288.0000 - val_loss: 161845040.0000\n",
      "Epoch 2/300\n",
      "51/51 [==============================] - 0s 2ms/step - loss: 160985888.0000 - val_loss: 161792848.0000\n",
      "Epoch 3/300\n",
      "51/51 [==============================] - 0s 2ms/step - loss: 160875200.0000 - val_loss: 161533952.0000\n",
      "Epoch 4/300\n",
      "51/51 [==============================] - 0s 2ms/step - loss: 160447936.0000 - val_loss: 160642288.0000\n",
      "Epoch 5/300\n",
      "51/51 [==============================] - 0s 2ms/step - loss: 159213248.0000 - val_loss: 158374528.0000\n",
      "Epoch 6/300\n",
      "51/51 [==============================] - 0s 2ms/step - loss: 156462640.0000 - val_loss: 153760432.0000\n",
      "Epoch 7/300\n",
      "51/51 [==============================] - 0s 2ms/step - loss: 151298176.0000 - val_loss: 145679952.0000\n",
      "Epoch 8/300\n",
      "51/51 [==============================] - 0s 2ms/step - loss: 142454064.0000 - val_loss: 132700640.0000\n",
      "Epoch 9/300\n",
      "51/51 [==============================] - 0s 2ms/step - loss: 129275448.0000 - val_loss: 114500840.0000\n",
      "Epoch 10/300\n",
      "51/51 [==============================] - 0s 2ms/step - loss: 111880088.0000 - val_loss: 91993360.0000\n",
      "Epoch 11/300\n",
      "51/51 [==============================] - 0s 2ms/step - loss: 92083832.0000 - val_loss: 67109584.0000\n",
      "Epoch 12/300\n",
      "51/51 [==============================] - 0s 2ms/step - loss: 70509472.0000 - val_loss: 44059792.0000\n",
      "Epoch 13/300\n",
      "51/51 [==============================] - 0s 2ms/step - loss: 53261436.0000 - val_loss: 27293718.0000\n",
      "Epoch 14/300\n",
      "51/51 [==============================] - 0s 2ms/step - loss: 41867696.0000 - val_loss: 18344778.0000\n",
      "Epoch 15/300\n",
      "51/51 [==============================] - 0s 2ms/step - loss: 36818588.0000 - val_loss: 15028865.0000\n",
      "Epoch 16/300\n",
      "51/51 [==============================] - 0s 2ms/step - loss: 34482236.0000 - val_loss: 14225971.0000\n",
      "Epoch 17/300\n",
      "51/51 [==============================] - 0s 2ms/step - loss: 33867676.0000 - val_loss: 14046113.0000\n",
      "Epoch 18/300\n",
      "51/51 [==============================] - 0s 2ms/step - loss: 33020124.0000 - val_loss: 13969120.0000\n",
      "Epoch 19/300\n",
      "51/51 [==============================] - 0s 2ms/step - loss: 33751896.0000 - val_loss: 13854925.0000\n",
      "Epoch 20/300\n",
      "51/51 [==============================] - 0s 2ms/step - loss: 33099238.0000 - val_loss: 13739965.0000\n",
      "Epoch 21/300\n",
      "51/51 [==============================] - 0s 2ms/step - loss: 32821980.0000 - val_loss: 13655980.0000\n",
      "Epoch 22/300\n",
      "51/51 [==============================] - 0s 2ms/step - loss: 32958698.0000 - val_loss: 13538614.0000\n",
      "Epoch 23/300\n",
      "51/51 [==============================] - 0s 2ms/step - loss: 32167768.0000 - val_loss: 13415318.0000\n",
      "Epoch 24/300\n",
      "51/51 [==============================] - 0s 2ms/step - loss: 32482560.0000 - val_loss: 13306582.0000\n",
      "Epoch 25/300\n",
      "51/51 [==============================] - 0s 2ms/step - loss: 32464350.0000 - val_loss: 13183029.0000\n",
      "Epoch 26/300\n",
      "51/51 [==============================] - 0s 2ms/step - loss: 32257012.0000 - val_loss: 13041783.0000\n",
      "Epoch 27/300\n",
      "51/51 [==============================] - 0s 2ms/step - loss: 32078936.0000 - val_loss: 12987444.0000\n",
      "Epoch 28/300\n",
      "51/51 [==============================] - 0s 2ms/step - loss: 31402854.0000 - val_loss: 12931953.0000\n",
      "Epoch 29/300\n",
      "51/51 [==============================] - 0s 2ms/step - loss: 32324682.0000 - val_loss: 12787824.0000\n",
      "Epoch 30/300\n",
      "51/51 [==============================] - 0s 2ms/step - loss: 31696842.0000 - val_loss: 12634753.0000\n",
      "Epoch 31/300\n",
      "51/51 [==============================] - 0s 2ms/step - loss: 31603484.0000 - val_loss: 12527407.0000\n",
      "Epoch 32/300\n",
      "51/51 [==============================] - 0s 2ms/step - loss: 31439278.0000 - val_loss: 12523815.0000\n",
      "Epoch 33/300\n",
      "51/51 [==============================] - 0s 2ms/step - loss: 30929072.0000 - val_loss: 12448540.0000\n",
      "Epoch 34/300\n",
      "51/51 [==============================] - 0s 2ms/step - loss: 31399110.0000 - val_loss: 12347508.0000\n",
      "Epoch 35/300\n",
      "51/51 [==============================] - 0s 2ms/step - loss: 31251892.0000 - val_loss: 12174751.0000\n",
      "Epoch 36/300\n",
      "51/51 [==============================] - 0s 2ms/step - loss: 30523800.0000 - val_loss: 12275225.0000\n",
      "Epoch 37/300\n",
      "51/51 [==============================] - 0s 2ms/step - loss: 30834208.0000 - val_loss: 12182082.0000\n",
      "Epoch 38/300\n",
      "51/51 [==============================] - 0s 2ms/step - loss: 30224076.0000 - val_loss: 12030362.0000\n",
      "Epoch 39/300\n",
      "51/51 [==============================] - 0s 2ms/step - loss: 30707198.0000 - val_loss: 11929255.0000\n",
      "Epoch 40/300\n",
      "51/51 [==============================] - 0s 2ms/step - loss: 30002784.0000 - val_loss: 12076060.0000\n",
      "Epoch 41/300\n",
      "51/51 [==============================] - 0s 2ms/step - loss: 30330128.0000 - val_loss: 11830606.0000\n",
      "Epoch 42/300\n",
      "51/51 [==============================] - 0s 2ms/step - loss: 30371912.0000 - val_loss: 11679283.0000\n",
      "Epoch 43/300\n",
      "51/51 [==============================] - 0s 2ms/step - loss: 30611360.0000 - val_loss: 11663777.0000\n",
      "Epoch 44/300\n",
      "51/51 [==============================] - 0s 2ms/step - loss: 29688344.0000 - val_loss: 11682478.0000\n",
      "Epoch 45/300\n",
      "51/51 [==============================] - 0s 2ms/step - loss: 29127028.0000 - val_loss: 11639059.0000\n",
      "Epoch 46/300\n",
      "51/51 [==============================] - 0s 2ms/step - loss: 29199630.0000 - val_loss: 11532628.0000\n",
      "Epoch 47/300\n",
      "51/51 [==============================] - 0s 2ms/step - loss: 29080348.0000 - val_loss: 11488366.0000\n",
      "Epoch 48/300\n",
      "51/51 [==============================] - 0s 2ms/step - loss: 29751318.0000 - val_loss: 11385024.0000\n",
      "Epoch 49/300\n",
      "51/51 [==============================] - 0s 2ms/step - loss: 28913086.0000 - val_loss: 11310151.0000\n",
      "Epoch 50/300\n",
      "51/51 [==============================] - 0s 2ms/step - loss: 29227662.0000 - val_loss: 11428041.0000\n",
      "Epoch 51/300\n",
      "51/51 [==============================] - 0s 2ms/step - loss: 29380968.0000 - val_loss: 11258082.0000\n",
      "Epoch 52/300\n",
      "51/51 [==============================] - 0s 2ms/step - loss: 28835120.0000 - val_loss: 11477358.0000\n",
      "Epoch 53/300\n",
      "51/51 [==============================] - 0s 2ms/step - loss: 28266148.0000 - val_loss: 11318681.0000\n",
      "Epoch 54/300\n",
      "51/51 [==============================] - 0s 2ms/step - loss: 28261658.0000 - val_loss: 11189201.0000\n",
      "Epoch 55/300\n",
      "51/51 [==============================] - 0s 2ms/step - loss: 28449506.0000 - val_loss: 11284725.0000\n",
      "Epoch 56/300\n",
      "51/51 [==============================] - 0s 2ms/step - loss: 27848128.0000 - val_loss: 11194501.0000\n",
      "Epoch 57/300\n",
      "51/51 [==============================] - 0s 2ms/step - loss: 27914674.0000 - val_loss: 11164115.0000\n",
      "Epoch 58/300\n",
      "51/51 [==============================] - 0s 2ms/step - loss: 27955282.0000 - val_loss: 11034053.0000\n",
      "Epoch 59/300\n",
      "51/51 [==============================] - 0s 2ms/step - loss: 28153684.0000 - val_loss: 11230292.0000\n",
      "Epoch 60/300\n",
      "51/51 [==============================] - 0s 2ms/step - loss: 28186442.0000 - val_loss: 11163933.0000\n",
      "Epoch 61/300\n",
      "51/51 [==============================] - 0s 2ms/step - loss: 28052740.0000 - val_loss: 11130780.0000\n",
      "Epoch 62/300\n",
      "51/51 [==============================] - 0s 2ms/step - loss: 27878470.0000 - val_loss: 11397439.0000\n",
      "Epoch 63/300\n",
      "51/51 [==============================] - 0s 2ms/step - loss: 27967008.0000 - val_loss: 11076222.0000\n",
      "Epoch 64/300\n",
      "51/51 [==============================] - 0s 2ms/step - loss: 27280304.0000 - val_loss: 11143594.0000\n",
      "Epoch 65/300\n",
      "51/51 [==============================] - 0s 2ms/step - loss: 27497560.0000 - val_loss: 11456587.0000\n",
      "Epoch 66/300\n",
      "51/51 [==============================] - 0s 2ms/step - loss: 27295992.0000 - val_loss: 11530436.0000\n",
      "Epoch 67/300\n",
      "51/51 [==============================] - 0s 2ms/step - loss: 27021930.0000 - val_loss: 11862250.0000\n",
      "Epoch 68/300\n",
      "51/51 [==============================] - 0s 2ms/step - loss: 26810778.0000 - val_loss: 11665092.0000\n",
      "Epoch 69/300\n",
      "51/51 [==============================] - 0s 2ms/step - loss: 26573630.0000 - val_loss: 11483571.0000\n",
      "Epoch 70/300\n",
      "51/51 [==============================] - 0s 2ms/step - loss: 27148010.0000 - val_loss: 11873148.0000\n",
      "Epoch 71/300\n",
      "51/51 [==============================] - 0s 2ms/step - loss: 27485424.0000 - val_loss: 11444518.0000\n",
      "Epoch 72/300\n",
      "51/51 [==============================] - 0s 2ms/step - loss: 27278636.0000 - val_loss: 11935204.0000\n",
      "Epoch 73/300\n",
      "51/51 [==============================] - 0s 2ms/step - loss: 26440492.0000 - val_loss: 12153468.0000\n",
      "Epoch 74/300\n",
      "51/51 [==============================] - 0s 2ms/step - loss: 26143456.0000 - val_loss: 11766679.0000\n",
      "Epoch 75/300\n",
      "51/51 [==============================] - 0s 2ms/step - loss: 26660530.0000 - val_loss: 11592853.0000\n",
      "Epoch 76/300\n",
      "51/51 [==============================] - 0s 2ms/step - loss: 25827070.0000 - val_loss: 11708716.0000\n",
      "Epoch 77/300\n",
      "51/51 [==============================] - 0s 2ms/step - loss: 26125026.0000 - val_loss: 12090602.0000\n",
      "Epoch 78/300\n",
      "51/51 [==============================] - 0s 2ms/step - loss: 26481388.0000 - val_loss: 12675317.0000\n",
      "Epoch 79/300\n",
      "51/51 [==============================] - 0s 2ms/step - loss: 25733504.0000 - val_loss: 12676786.0000\n",
      "Epoch 80/300\n",
      "51/51 [==============================] - 0s 2ms/step - loss: 26498390.0000 - val_loss: 12351669.0000\n",
      "Epoch 81/300\n",
      "51/51 [==============================] - 0s 2ms/step - loss: 25723600.0000 - val_loss: 12672494.0000\n",
      "Epoch 82/300\n",
      "51/51 [==============================] - 0s 2ms/step - loss: 25752536.0000 - val_loss: 12860309.0000\n",
      "Epoch 83/300\n",
      "51/51 [==============================] - 0s 2ms/step - loss: 25703018.0000 - val_loss: 12816569.0000\n",
      "Epoch 83: early stopping\n"
     ]
    },
    {
     "data": {
      "text/plain": [
       "<keras.src.callbacks.History at 0x2b7b73be590>"
      ]
     },
     "execution_count": 39,
     "metadata": {},
     "output_type": "execute_result"
    }
   ],
   "source": [
    "model.fit(x=X_train, y=y_train, batch_size=250, epochs=300, validation_data=(X_test, y_test), callbacks=[earlyStop])"
   ]
  },
  {
   "cell_type": "code",
   "execution_count": 40,
   "id": "6c6c1b3d-e170-4630-8a28-882ce8010915",
   "metadata": {},
   "outputs": [
    {
     "data": {
      "image/png": "[encoded data removed]",
      "text/plain": [
       "<Figure size 640x480 with 1 Axes>"
      ]
     },
     "metadata": {},
     "output_type": "display_data"
    }
   ],
   "source": [
    "loss = pd.DataFrame(model.history.history)[[\"loss\",\"val_loss\"]]\n",
    "loss.plot();"
   ]
  },
  {
   "cell_type": "code",
   "execution_count": 41,
   "id": "35da9164-eab4-4a5b-a40c-b3e821a8fb4e",
   "metadata": {},
   "outputs": [
    {
     "name": "stdout",
     "output_type": "stream",
     "text": [
      "393/393 [==============================] - 0s 667us/step - loss: 9497712.0000\n"
     ]
    },
    {
     "data": {
      "text/plain": [
       "9497712.0"
      ]
     },
     "execution_count": 41,
     "metadata": {},
     "output_type": "execute_result"
    }
   ],
   "source": [
    "model.evaluate(X_train, y_train)"
   ]
  },
  {
   "cell_type": "code",
   "execution_count": 42,
   "id": "f59c989e-4f3f-4be4-95d7-43406b7a137a",
   "metadata": {},
   "outputs": [
    {
     "name": "stdout",
     "output_type": "stream",
     "text": [
      "131/131 [==============================] - 0s 692us/step - loss: 12816567.0000\n"
     ]
    },
    {
     "data": {
      "text/plain": [
       "12816567.0"
      ]
     },
     "execution_count": 42,
     "metadata": {},
     "output_type": "execute_result"
    }
   ],
   "source": [
    "model.evaluate(X_test, y_test)"
   ]
  },
  {
   "cell_type": "code",
   "execution_count": 43,
   "id": "24590059-ca31-43b8-a840-0f7c62b9d846",
   "metadata": {},
   "outputs": [
    {
     "name": "stdout",
     "output_type": "stream",
     "text": [
      "131/131 [==============================] - 0s 644us/step\n"
     ]
    }
   ],
   "source": [
    "y_pred = model.predict(X_test)"
   ]
  },
  {
   "cell_type": "code",
   "execution_count": 44,
   "id": "90edba26-bd51-4c1d-86d3-f68258a2dc24",
   "metadata": {},
   "outputs": [
    {
     "data": {
      "text/plain": [
       "2897.7688661109746"
      ]
     },
     "execution_count": 44,
     "metadata": {},
     "output_type": "execute_result"
    }
   ],
   "source": [
    "mean_absolute_error(y_test, y_pred)"
   ]
  },
  {
   "cell_type": "code",
   "execution_count": null,
   "id": "3c34f9b5-3aa7-4cfa-a815-c1c779de9e07",
   "metadata": {},
   "outputs": [],
   "source": []
  }
 ],
 "metadata": {
  "kernelspec": {
   "display_name": "Python 3 (ipykernel)",
   "language": "python",
   "name": "python3"
  },
  "language_info": {
   "codemirror_mode": {
    "name": "ipython",
    "version": 3
   },
   "file_extension": ".py",
   "mimetype": "text/x-python",
   "name": "python",
   "nbconvert_exporter": "python",
   "pygments_lexer": "ipython3",
   "version": "3.11.6"
  }
 },
 "nbformat": 4,
 "nbformat_minor": 5
}
